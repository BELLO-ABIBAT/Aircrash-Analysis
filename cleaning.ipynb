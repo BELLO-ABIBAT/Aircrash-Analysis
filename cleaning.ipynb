{
 "cells": [
  {
   "cell_type": "code",
   "execution_count": 1,
   "id": "83ea293d-f734-467f-a7c8-7ccd3dffa163",
   "metadata": {},
   "outputs": [],
   "source": [
    "import numpy as np\n",
    "import pandas as pd\n",
    "import matplotlib.pyplot as plt\n",
    "import seaborn as sns\n",
    "import plotly.express as px"
   ]
  },
  {
   "cell_type": "code",
   "execution_count": 2,
   "id": "6c019293-793f-4b34-be2c-51baea9620ce",
   "metadata": {
    "tags": []
   },
   "outputs": [
    {
     "data": {
      "text/html": [
       "<div>\n",
       "<style scoped>\n",
       "    .dataframe tbody tr th:only-of-type {\n",
       "        vertical-align: middle;\n",
       "    }\n",
       "\n",
       "    .dataframe tbody tr th {\n",
       "        vertical-align: top;\n",
       "    }\n",
       "\n",
       "    .dataframe thead th {\n",
       "        text-align: right;\n",
       "    }\n",
       "</style>\n",
       "<table border=\"1\" class=\"dataframe\">\n",
       "  <thead>\n",
       "    <tr style=\"text-align: right;\">\n",
       "      <th></th>\n",
       "      <th>Year</th>\n",
       "      <th>Quarter</th>\n",
       "      <th>Month</th>\n",
       "      <th>Day</th>\n",
       "      <th>Country/Region</th>\n",
       "      <th>Aircraft Manufacturer</th>\n",
       "      <th>Aircraft</th>\n",
       "      <th>Location</th>\n",
       "      <th>Operator</th>\n",
       "      <th>Ground</th>\n",
       "      <th>Fatalities (air)</th>\n",
       "      <th>Aboard</th>\n",
       "    </tr>\n",
       "  </thead>\n",
       "  <tbody>\n",
       "    <tr>\n",
       "      <th>0</th>\n",
       "      <td>1970</td>\n",
       "      <td>Qtr 2</td>\n",
       "      <td>April</td>\n",
       "      <td>28</td>\n",
       "      <td>NaN</td>\n",
       "      <td>de Havilland Canada</td>\n",
       "      <td>de Havilland Canada DHC 6 Twin Otter 100VH</td>\n",
       "      <td>Kainatu</td>\n",
       "      <td>Airlines Australia GuineaTrans New</td>\n",
       "      <td>0</td>\n",
       "      <td>8</td>\n",
       "      <td>11</td>\n",
       "    </tr>\n",
       "    <tr>\n",
       "      <th>1</th>\n",
       "      <td>1952</td>\n",
       "      <td>Qtr 2</td>\n",
       "      <td>April</td>\n",
       "      <td>30</td>\n",
       "      <td>NaN</td>\n",
       "      <td>Douglas</td>\n",
       "      <td>Douglas DC 3VT</td>\n",
       "      <td>Delhi</td>\n",
       "      <td>Airways IndiaDeccan</td>\n",
       "      <td>0</td>\n",
       "      <td>9</td>\n",
       "      <td>9</td>\n",
       "    </tr>\n",
       "    <tr>\n",
       "      <th>2</th>\n",
       "      <td>1973</td>\n",
       "      <td>Qtr 2</td>\n",
       "      <td>April</td>\n",
       "      <td>10</td>\n",
       "      <td>NaN</td>\n",
       "      <td>Vickers Vanguard</td>\n",
       "      <td>Vickers Vanguard 952G AXOP</td>\n",
       "      <td>Near Basel</td>\n",
       "      <td>(UK) Airlines International SwitzerlandInvicta</td>\n",
       "      <td>0</td>\n",
       "      <td>108</td>\n",
       "      <td>145</td>\n",
       "    </tr>\n",
       "    <tr>\n",
       "      <th>3</th>\n",
       "      <td>2000</td>\n",
       "      <td>Qtr 2</td>\n",
       "      <td>April</td>\n",
       "      <td>19</td>\n",
       "      <td>'-</td>\n",
       "      <td>Antonov</td>\n",
       "      <td>Antonov AN 8TL</td>\n",
       "      <td>Pepa  -</td>\n",
       "      <td>Airlines Centrafricain</td>\n",
       "      <td>0</td>\n",
       "      <td>24</td>\n",
       "      <td>24</td>\n",
       "    </tr>\n",
       "    <tr>\n",
       "      <th>4</th>\n",
       "      <td>1946</td>\n",
       "      <td>Qtr 2</td>\n",
       "      <td>April</td>\n",
       "      <td>30</td>\n",
       "      <td>'-</td>\n",
       "      <td>Douglas</td>\n",
       "      <td>Douglas C 47A FZ559</td>\n",
       "      <td>Pindi-Khut  -</td>\n",
       "      <td>Force Air Royal</td>\n",
       "      <td>0</td>\n",
       "      <td>12</td>\n",
       "      <td>12</td>\n",
       "    </tr>\n",
       "  </tbody>\n",
       "</table>\n",
       "</div>"
      ],
      "text/plain": [
       "   Year Quarter  Month  Day Country/Region Aircraft Manufacturer  \\\n",
       "0  1970   Qtr 2  April   28            NaN   de Havilland Canada   \n",
       "1  1952   Qtr 2  April   30            NaN               Douglas   \n",
       "2  1973   Qtr 2  April   10            NaN      Vickers Vanguard   \n",
       "3  2000   Qtr 2  April   19             '-               Antonov   \n",
       "4  1946   Qtr 2  April   30             '-               Douglas   \n",
       "\n",
       "                                     Aircraft       Location  \\\n",
       "0  de Havilland Canada DHC 6 Twin Otter 100VH        Kainatu   \n",
       "1                              Douglas DC 3VT          Delhi   \n",
       "2                  Vickers Vanguard 952G AXOP     Near Basel   \n",
       "3                              Antonov AN 8TL        Pepa  -   \n",
       "4                         Douglas C 47A FZ559  Pindi-Khut  -   \n",
       "\n",
       "                                         Operator  Ground  Fatalities (air)  \\\n",
       "0              Airlines Australia GuineaTrans New       0                 8   \n",
       "1                             Airways IndiaDeccan       0                 9   \n",
       "2  (UK) Airlines International SwitzerlandInvicta       0               108   \n",
       "3                          Airlines Centrafricain       0                24   \n",
       "4                                 Force Air Royal       0                12   \n",
       "\n",
       "   Aboard  \n",
       "0      11  \n",
       "1       9  \n",
       "2     145  \n",
       "3      24  \n",
       "4      12  "
      ]
     },
     "execution_count": 2,
     "metadata": {},
     "output_type": "execute_result"
    }
   ],
   "source": [
    "df = pd.read_csv(\"aircrahesFullDataUpdated_2024.csv\")\n",
    "df.head()\n"
   ]
  },
  {
   "cell_type": "markdown",
   "id": "3cc33f3f-a793-44f1-91b7-56880051f495",
   "metadata": {},
   "source": [
    "### Data Preparation and Cleaning"
   ]
  },
  {
   "cell_type": "code",
   "execution_count": 3,
   "id": "2119b7f0-3bac-4194-9720-ed935b8b4e69",
   "metadata": {
    "tags": []
   },
   "outputs": [
    {
     "data": {
      "text/plain": [
       "(5035, 12)"
      ]
     },
     "execution_count": 3,
     "metadata": {},
     "output_type": "execute_result"
    }
   ],
   "source": [
    "df.shape"
   ]
  },
  {
   "cell_type": "code",
   "execution_count": 4,
   "id": "d99783ea-9b78-476b-8abb-6e6aa9977c63",
   "metadata": {
    "tags": []
   },
   "outputs": [
    {
     "data": {
      "text/plain": [
       "60420"
      ]
     },
     "execution_count": 4,
     "metadata": {},
     "output_type": "execute_result"
    }
   ],
   "source": [
    "df.size"
   ]
  },
  {
   "cell_type": "code",
   "execution_count": 5,
   "id": "4689f696-621f-434e-b47b-eadb62c8c852",
   "metadata": {
    "tags": []
   },
   "outputs": [
    {
     "data": {
      "text/plain": [
       "Index(['Year', 'Quarter', 'Month', 'Day', 'Country/Region',\n",
       "       'Aircraft Manufacturer', 'Aircraft', 'Location', 'Operator', 'Ground',\n",
       "       'Fatalities (air)', 'Aboard'],\n",
       "      dtype='object')"
      ]
     },
     "execution_count": 5,
     "metadata": {},
     "output_type": "execute_result"
    }
   ],
   "source": [
    "df.columns"
   ]
  },
  {
   "cell_type": "code",
   "execution_count": 6,
   "id": "5262f3d6-efea-48cf-8d9a-ad0431856c60",
   "metadata": {
    "tags": []
   },
   "outputs": [
    {
     "name": "stdout",
     "output_type": "stream",
     "text": [
      "<class 'pandas.core.frame.DataFrame'>\n",
      "RangeIndex: 5035 entries, 0 to 5034\n",
      "Data columns (total 12 columns):\n",
      " #   Column                 Non-Null Count  Dtype \n",
      "---  ------                 --------------  ----- \n",
      " 0   Year                   5035 non-null   int64 \n",
      " 1   Quarter                5035 non-null   object\n",
      " 2   Month                  5035 non-null   object\n",
      " 3   Day                    5035 non-null   int64 \n",
      " 4   Country/Region         4805 non-null   object\n",
      " 5   Aircraft Manufacturer  5035 non-null   object\n",
      " 6   Aircraft               5035 non-null   object\n",
      " 7   Location               5035 non-null   object\n",
      " 8   Operator               4801 non-null   object\n",
      " 9   Ground                 5035 non-null   int64 \n",
      " 10  Fatalities (air)       5035 non-null   int64 \n",
      " 11  Aboard                 5035 non-null   int64 \n",
      "dtypes: int64(5), object(7)\n",
      "memory usage: 472.2+ KB\n"
     ]
    }
   ],
   "source": [
    "df.info()"
   ]
  },
  {
   "cell_type": "code",
   "execution_count": 9,
   "id": "62e4b027-04d4-43a4-b82a-7d0cce1f4160",
   "metadata": {
    "tags": []
   },
   "outputs": [
    {
     "data": {
      "text/plain": [
       "0"
      ]
     },
     "execution_count": 9,
     "metadata": {},
     "output_type": "execute_result"
    }
   ],
   "source": [
    "df.duplicated().sum()"
   ]
  },
  {
   "cell_type": "code",
   "execution_count": 7,
   "id": "3bec4f7e-bf07-4c77-a3d6-26aa8d1760d1",
   "metadata": {
    "tags": []
   },
   "outputs": [
    {
     "data": {
      "text/html": [
       "<div>\n",
       "<style scoped>\n",
       "    .dataframe tbody tr th:only-of-type {\n",
       "        vertical-align: middle;\n",
       "    }\n",
       "\n",
       "    .dataframe tbody tr th {\n",
       "        vertical-align: top;\n",
       "    }\n",
       "\n",
       "    .dataframe thead th {\n",
       "        text-align: right;\n",
       "    }\n",
       "</style>\n",
       "<table border=\"1\" class=\"dataframe\">\n",
       "  <thead>\n",
       "    <tr style=\"text-align: right;\">\n",
       "      <th></th>\n",
       "      <th>Year</th>\n",
       "      <th>Day</th>\n",
       "      <th>Ground</th>\n",
       "      <th>Fatalities (air)</th>\n",
       "      <th>Aboard</th>\n",
       "    </tr>\n",
       "  </thead>\n",
       "  <tbody>\n",
       "    <tr>\n",
       "      <th>count</th>\n",
       "      <td>5035.000000</td>\n",
       "      <td>5035.000000</td>\n",
       "      <td>5035.000000</td>\n",
       "      <td>5035.000000</td>\n",
       "      <td>5035.000000</td>\n",
       "    </tr>\n",
       "    <tr>\n",
       "      <th>mean</th>\n",
       "      <td>1970.991063</td>\n",
       "      <td>15.785104</td>\n",
       "      <td>1.704469</td>\n",
       "      <td>22.218868</td>\n",
       "      <td>31.107249</td>\n",
       "    </tr>\n",
       "    <tr>\n",
       "      <th>std</th>\n",
       "      <td>24.814467</td>\n",
       "      <td>8.794474</td>\n",
       "      <td>55.105115</td>\n",
       "      <td>34.948929</td>\n",
       "      <td>45.740185</td>\n",
       "    </tr>\n",
       "    <tr>\n",
       "      <th>min</th>\n",
       "      <td>1908.000000</td>\n",
       "      <td>1.000000</td>\n",
       "      <td>0.000000</td>\n",
       "      <td>0.000000</td>\n",
       "      <td>0.000000</td>\n",
       "    </tr>\n",
       "    <tr>\n",
       "      <th>25%</th>\n",
       "      <td>1951.000000</td>\n",
       "      <td>8.000000</td>\n",
       "      <td>0.000000</td>\n",
       "      <td>4.000000</td>\n",
       "      <td>7.000000</td>\n",
       "    </tr>\n",
       "    <tr>\n",
       "      <th>50%</th>\n",
       "      <td>1970.000000</td>\n",
       "      <td>16.000000</td>\n",
       "      <td>0.000000</td>\n",
       "      <td>11.000000</td>\n",
       "      <td>16.000000</td>\n",
       "    </tr>\n",
       "    <tr>\n",
       "      <th>75%</th>\n",
       "      <td>1992.000000</td>\n",
       "      <td>23.000000</td>\n",
       "      <td>0.000000</td>\n",
       "      <td>25.000000</td>\n",
       "      <td>34.500000</td>\n",
       "    </tr>\n",
       "    <tr>\n",
       "      <th>max</th>\n",
       "      <td>2024.000000</td>\n",
       "      <td>31.000000</td>\n",
       "      <td>2750.000000</td>\n",
       "      <td>583.000000</td>\n",
       "      <td>644.000000</td>\n",
       "    </tr>\n",
       "  </tbody>\n",
       "</table>\n",
       "</div>"
      ],
      "text/plain": [
       "              Year          Day       Ground  Fatalities (air)       Aboard\n",
       "count  5035.000000  5035.000000  5035.000000       5035.000000  5035.000000\n",
       "mean   1970.991063    15.785104     1.704469         22.218868    31.107249\n",
       "std      24.814467     8.794474    55.105115         34.948929    45.740185\n",
       "min    1908.000000     1.000000     0.000000          0.000000     0.000000\n",
       "25%    1951.000000     8.000000     0.000000          4.000000     7.000000\n",
       "50%    1970.000000    16.000000     0.000000         11.000000    16.000000\n",
       "75%    1992.000000    23.000000     0.000000         25.000000    34.500000\n",
       "max    2024.000000    31.000000  2750.000000        583.000000   644.000000"
      ]
     },
     "execution_count": 7,
     "metadata": {},
     "output_type": "execute_result"
    }
   ],
   "source": [
    "df.describe()"
   ]
  },
  {
   "cell_type": "code",
   "execution_count": 8,
   "id": "8b2a803e-b877-4420-86ae-80f40e67056c",
   "metadata": {
    "tags": []
   },
   "outputs": [
    {
     "data": {
      "text/html": [
       "<div>\n",
       "<style scoped>\n",
       "    .dataframe tbody tr th:only-of-type {\n",
       "        vertical-align: middle;\n",
       "    }\n",
       "\n",
       "    .dataframe tbody tr th {\n",
       "        vertical-align: top;\n",
       "    }\n",
       "\n",
       "    .dataframe thead th {\n",
       "        text-align: right;\n",
       "    }\n",
       "</style>\n",
       "<table border=\"1\" class=\"dataframe\">\n",
       "  <thead>\n",
       "    <tr style=\"text-align: right;\">\n",
       "      <th></th>\n",
       "      <th>Quarter</th>\n",
       "      <th>Month</th>\n",
       "      <th>Country/Region</th>\n",
       "      <th>Aircraft Manufacturer</th>\n",
       "      <th>Aircraft</th>\n",
       "      <th>Location</th>\n",
       "      <th>Operator</th>\n",
       "    </tr>\n",
       "  </thead>\n",
       "  <tbody>\n",
       "    <tr>\n",
       "      <th>count</th>\n",
       "      <td>5035</td>\n",
       "      <td>5035</td>\n",
       "      <td>4805</td>\n",
       "      <td>5035</td>\n",
       "      <td>5035</td>\n",
       "      <td>5035</td>\n",
       "      <td>4801</td>\n",
       "    </tr>\n",
       "    <tr>\n",
       "      <th>unique</th>\n",
       "      <td>4</td>\n",
       "      <td>12</td>\n",
       "      <td>527</td>\n",
       "      <td>633</td>\n",
       "      <td>3525</td>\n",
       "      <td>4170</td>\n",
       "      <td>2631</td>\n",
       "    </tr>\n",
       "    <tr>\n",
       "      <th>top</th>\n",
       "      <td>Qtr 4</td>\n",
       "      <td>December</td>\n",
       "      <td>Russia</td>\n",
       "      <td>Douglas</td>\n",
       "      <td>Boeing B 737</td>\n",
       "      <td>Moscow Russia</td>\n",
       "      <td>Aeroflot</td>\n",
       "    </tr>\n",
       "    <tr>\n",
       "      <th>freq</th>\n",
       "      <td>1368</td>\n",
       "      <td>497</td>\n",
       "      <td>249</td>\n",
       "      <td>994</td>\n",
       "      <td>73</td>\n",
       "      <td>16</td>\n",
       "      <td>188</td>\n",
       "    </tr>\n",
       "  </tbody>\n",
       "</table>\n",
       "</div>"
      ],
      "text/plain": [
       "       Quarter     Month Country/Region Aircraft Manufacturer      Aircraft  \\\n",
       "count     5035      5035           4805                  5035          5035   \n",
       "unique       4        12            527                   633          3525   \n",
       "top      Qtr 4  December         Russia               Douglas  Boeing B 737   \n",
       "freq      1368       497            249                   994            73   \n",
       "\n",
       "             Location  Operator  \n",
       "count            5035      4801  \n",
       "unique           4170      2631  \n",
       "top     Moscow Russia  Aeroflot  \n",
       "freq               16       188  "
      ]
     },
     "execution_count": 8,
     "metadata": {},
     "output_type": "execute_result"
    }
   ],
   "source": [
    "df.describe(include=\"object\")"
   ]
  },
  {
   "cell_type": "code",
   "execution_count": 9,
   "id": "4817f515-bf1b-406c-816d-fddbc806ffd2",
   "metadata": {
    "tags": []
   },
   "outputs": [
    {
     "data": {
      "text/plain": [
       "Year                       0\n",
       "Quarter                    0\n",
       "Month                      0\n",
       "Day                        0\n",
       "Country/Region           230\n",
       "Aircraft Manufacturer      0\n",
       "Aircraft                   0\n",
       "Location                   0\n",
       "Operator                 234\n",
       "Ground                     0\n",
       "Fatalities (air)           0\n",
       "Aboard                     0\n",
       "dtype: int64"
      ]
     },
     "execution_count": 9,
     "metadata": {},
     "output_type": "execute_result"
    }
   ],
   "source": [
    "df.isna().sum()"
   ]
  },
  {
   "cell_type": "code",
   "execution_count": 3,
   "id": "bf89d717-eb02-4338-945f-1a2b242a3309",
   "metadata": {
    "tags": []
   },
   "outputs": [
    {
     "data": {
      "text/html": [
       "<div>\n",
       "<style scoped>\n",
       "    .dataframe tbody tr th:only-of-type {\n",
       "        vertical-align: middle;\n",
       "    }\n",
       "\n",
       "    .dataframe tbody tr th {\n",
       "        vertical-align: top;\n",
       "    }\n",
       "\n",
       "    .dataframe thead th {\n",
       "        text-align: right;\n",
       "    }\n",
       "</style>\n",
       "<table border=\"1\" class=\"dataframe\">\n",
       "  <thead>\n",
       "    <tr style=\"text-align: right;\">\n",
       "      <th></th>\n",
       "      <th>Year</th>\n",
       "      <th>Quarter</th>\n",
       "      <th>Month</th>\n",
       "      <th>Day</th>\n",
       "      <th>Country/Region</th>\n",
       "      <th>Aircraft Manufacturer</th>\n",
       "      <th>Aircraft</th>\n",
       "      <th>Location</th>\n",
       "      <th>Operator</th>\n",
       "      <th>Ground</th>\n",
       "      <th>Fatalities (air)</th>\n",
       "      <th>Aboard</th>\n",
       "    </tr>\n",
       "  </thead>\n",
       "  <tbody>\n",
       "    <tr>\n",
       "      <th>5018</th>\n",
       "      <td>1908</td>\n",
       "      <td>Qtr 3</td>\n",
       "      <td>September</td>\n",
       "      <td>17</td>\n",
       "      <td>Virginia</td>\n",
       "      <td>Wright Flyer</td>\n",
       "      <td>Wright Flyer III?</td>\n",
       "      <td>Fort Myer Virginia</td>\n",
       "      <td>Army U.S. - Military</td>\n",
       "      <td>0</td>\n",
       "      <td>1</td>\n",
       "      <td>2</td>\n",
       "    </tr>\n",
       "    <tr>\n",
       "      <th>4747</th>\n",
       "      <td>1909</td>\n",
       "      <td>Qtr 3</td>\n",
       "      <td>September</td>\n",
       "      <td>7</td>\n",
       "      <td>France?</td>\n",
       "      <td>Wright</td>\n",
       "      <td>Wright ByplaneSC1</td>\n",
       "      <td>Juvisy-sur-Orge France?</td>\n",
       "      <td>NaN</td>\n",
       "      <td>0</td>\n",
       "      <td>1</td>\n",
       "      <td>1</td>\n",
       "    </tr>\n",
       "    <tr>\n",
       "      <th>2428</th>\n",
       "      <td>1912</td>\n",
       "      <td>Qtr 3</td>\n",
       "      <td>July</td>\n",
       "      <td>12</td>\n",
       "      <td>New</td>\n",
       "      <td>Dirigible?</td>\n",
       "      <td>Dirigible?</td>\n",
       "      <td>Atlantic City New</td>\n",
       "      <td>Navy U.S. - JerseyMilitary</td>\n",
       "      <td>0</td>\n",
       "      <td>5</td>\n",
       "      <td>5</td>\n",
       "    </tr>\n",
       "    <tr>\n",
       "      <th>4853</th>\n",
       "      <td>1913</td>\n",
       "      <td>Qtr 3</td>\n",
       "      <td>September</td>\n",
       "      <td>9</td>\n",
       "      <td>NaN</td>\n",
       "      <td>Zeppelin</td>\n",
       "      <td>Zeppelin L 1 (airship)?</td>\n",
       "      <td>Over the North SeaMilitary - German Navy</td>\n",
       "      <td>NaN</td>\n",
       "      <td>0</td>\n",
       "      <td>14</td>\n",
       "      <td>20</td>\n",
       "    </tr>\n",
       "    <tr>\n",
       "      <th>4292</th>\n",
       "      <td>1913</td>\n",
       "      <td>Qtr 4</td>\n",
       "      <td>October</td>\n",
       "      <td>17</td>\n",
       "      <td>Germany</td>\n",
       "      <td>Zeppelin</td>\n",
       "      <td>Zeppelin L 2 (airship)?</td>\n",
       "      <td>Near Johannisthal Germany</td>\n",
       "      <td>Navy German - Military</td>\n",
       "      <td>0</td>\n",
       "      <td>28</td>\n",
       "      <td>28</td>\n",
       "    </tr>\n",
       "    <tr>\n",
       "      <th>...</th>\n",
       "      <td>...</td>\n",
       "      <td>...</td>\n",
       "      <td>...</td>\n",
       "      <td>...</td>\n",
       "      <td>...</td>\n",
       "      <td>...</td>\n",
       "      <td>...</td>\n",
       "      <td>...</td>\n",
       "      <td>...</td>\n",
       "      <td>...</td>\n",
       "      <td>...</td>\n",
       "      <td>...</td>\n",
       "    </tr>\n",
       "    <tr>\n",
       "      <th>1667</th>\n",
       "      <td>2024</td>\n",
       "      <td>Qtr 1</td>\n",
       "      <td>January</td>\n",
       "      <td>23</td>\n",
       "      <td>NWT Canada</td>\n",
       "      <td>BAe</td>\n",
       "      <td>BAe 3212 Jetstream</td>\n",
       "      <td>Fort Smith</td>\n",
       "      <td>Northwestern Air Lease LTD</td>\n",
       "      <td>0</td>\n",
       "      <td>6</td>\n",
       "      <td>7</td>\n",
       "    </tr>\n",
       "    <tr>\n",
       "      <th>1668</th>\n",
       "      <td>2024</td>\n",
       "      <td>Qtr 1</td>\n",
       "      <td>January</td>\n",
       "      <td>18</td>\n",
       "      <td>Somalia</td>\n",
       "      <td>Fokker</td>\n",
       "      <td>Fokker 505YJWG</td>\n",
       "      <td>Ceel Barde</td>\n",
       "      <td>Jetways Airlines</td>\n",
       "      <td>0</td>\n",
       "      <td>1</td>\n",
       "      <td>4</td>\n",
       "    </tr>\n",
       "    <tr>\n",
       "      <th>1666</th>\n",
       "      <td>2024</td>\n",
       "      <td>Qtr 1</td>\n",
       "      <td>January</td>\n",
       "      <td>2</td>\n",
       "      <td>Japan</td>\n",
       "      <td>Airbus</td>\n",
       "      <td>Airbus A350-941/de Havilla DHC</td>\n",
       "      <td>Tokyo</td>\n",
       "      <td>Japan Airlines   Japan Coast Guard</td>\n",
       "      <td>0</td>\n",
       "      <td>5</td>\n",
       "      <td>385</td>\n",
       "    </tr>\n",
       "    <tr>\n",
       "      <th>3352</th>\n",
       "      <td>2024</td>\n",
       "      <td>Qtr 2</td>\n",
       "      <td>May</td>\n",
       "      <td>21</td>\n",
       "      <td>Myanmar</td>\n",
       "      <td>Boeing</td>\n",
       "      <td>Boeing 777-312ER9V-SWM</td>\n",
       "      <td>Over Irrawaddy Basin</td>\n",
       "      <td>Singapore Airllines</td>\n",
       "      <td>0</td>\n",
       "      <td>1</td>\n",
       "      <td>229</td>\n",
       "    </tr>\n",
       "    <tr>\n",
       "      <th>6</th>\n",
       "      <td>2024</td>\n",
       "      <td>Qtr 2</td>\n",
       "      <td>April</td>\n",
       "      <td>23</td>\n",
       "      <td>Alaska</td>\n",
       "      <td>Douglas</td>\n",
       "      <td>Douglas C-54D Skymaster N3054V</td>\n",
       "      <td>Near Fairbanks</td>\n",
       "      <td>Alaska Air Fuel</td>\n",
       "      <td>0</td>\n",
       "      <td>2</td>\n",
       "      <td>2</td>\n",
       "    </tr>\n",
       "  </tbody>\n",
       "</table>\n",
       "<p>5035 rows × 12 columns</p>\n",
       "</div>"
      ],
      "text/plain": [
       "      Year Quarter      Month  Day Country/Region Aircraft Manufacturer  \\\n",
       "5018  1908   Qtr 3  September   17       Virginia          Wright Flyer   \n",
       "4747  1909   Qtr 3  September    7        France?                Wright   \n",
       "2428  1912   Qtr 3       July   12            New            Dirigible?   \n",
       "4853  1913   Qtr 3  September    9            NaN              Zeppelin   \n",
       "4292  1913   Qtr 4    October   17        Germany              Zeppelin   \n",
       "...    ...     ...        ...  ...            ...                   ...   \n",
       "1667  2024   Qtr 1    January   23     NWT Canada                   BAe   \n",
       "1668  2024   Qtr 1    January   18        Somalia                Fokker   \n",
       "1666  2024   Qtr 1    January    2          Japan                Airbus   \n",
       "3352  2024   Qtr 2        May   21        Myanmar                Boeing   \n",
       "6     2024   Qtr 2      April   23         Alaska               Douglas   \n",
       "\n",
       "                            Aircraft  \\\n",
       "5018               Wright Flyer III?   \n",
       "4747               Wright ByplaneSC1   \n",
       "2428                      Dirigible?   \n",
       "4853         Zeppelin L 1 (airship)?   \n",
       "4292         Zeppelin L 2 (airship)?   \n",
       "...                              ...   \n",
       "1667              BAe 3212 Jetstream   \n",
       "1668                  Fokker 505YJWG   \n",
       "1666  Airbus A350-941/de Havilla DHC   \n",
       "3352          Boeing 777-312ER9V-SWM   \n",
       "6     Douglas C-54D Skymaster N3054V   \n",
       "\n",
       "                                      Location  \\\n",
       "5018                        Fort Myer Virginia   \n",
       "4747                   Juvisy-sur-Orge France?   \n",
       "2428                         Atlantic City New   \n",
       "4853  Over the North SeaMilitary - German Navy   \n",
       "4292                 Near Johannisthal Germany   \n",
       "...                                        ...   \n",
       "1667                                Fort Smith   \n",
       "1668                                Ceel Barde   \n",
       "1666                                     Tokyo   \n",
       "3352                      Over Irrawaddy Basin   \n",
       "6                               Near Fairbanks   \n",
       "\n",
       "                                Operator  Ground  Fatalities (air)  Aboard  \n",
       "5018                Army U.S. - Military       0                 1       2  \n",
       "4747                                 NaN       0                 1       1  \n",
       "2428          Navy U.S. - JerseyMilitary       0                 5       5  \n",
       "4853                                 NaN       0                14      20  \n",
       "4292              Navy German - Military       0                28      28  \n",
       "...                                  ...     ...               ...     ...  \n",
       "1667          Northwestern Air Lease LTD       0                 6       7  \n",
       "1668                    Jetways Airlines       0                 1       4  \n",
       "1666  Japan Airlines   Japan Coast Guard       0                 5     385  \n",
       "3352                 Singapore Airllines       0                 1     229  \n",
       "6                        Alaska Air Fuel       0                 2       2  \n",
       "\n",
       "[5035 rows x 12 columns]"
      ]
     },
     "execution_count": 3,
     "metadata": {},
     "output_type": "execute_result"
    }
   ],
   "source": [
    "df = df.sort_values(by = \"Year\")\n",
    "df"
   ]
  },
  {
   "cell_type": "code",
   "execution_count": 4,
   "id": "8a7acad5-aaae-4b5c-8c29-613dab8ae1e6",
   "metadata": {
    "tags": []
   },
   "outputs": [
    {
     "data": {
      "text/html": [
       "<div>\n",
       "<style scoped>\n",
       "    .dataframe tbody tr th:only-of-type {\n",
       "        vertical-align: middle;\n",
       "    }\n",
       "\n",
       "    .dataframe tbody tr th {\n",
       "        vertical-align: top;\n",
       "    }\n",
       "\n",
       "    .dataframe thead th {\n",
       "        text-align: right;\n",
       "    }\n",
       "</style>\n",
       "<table border=\"1\" class=\"dataframe\">\n",
       "  <thead>\n",
       "    <tr style=\"text-align: right;\">\n",
       "      <th></th>\n",
       "      <th>Year</th>\n",
       "      <th>Quarter</th>\n",
       "      <th>Month</th>\n",
       "      <th>Day</th>\n",
       "      <th>Country/Region</th>\n",
       "      <th>Aircraft Manufacturer</th>\n",
       "      <th>Aircraft</th>\n",
       "      <th>Location</th>\n",
       "      <th>Operator</th>\n",
       "      <th>Ground</th>\n",
       "      <th>Fatalities (air)</th>\n",
       "      <th>Aboard</th>\n",
       "    </tr>\n",
       "  </thead>\n",
       "  <tbody>\n",
       "    <tr>\n",
       "      <th>0</th>\n",
       "      <td>1908</td>\n",
       "      <td>Qtr 3</td>\n",
       "      <td>September</td>\n",
       "      <td>17</td>\n",
       "      <td>Virginia</td>\n",
       "      <td>Wright Flyer</td>\n",
       "      <td>Wright Flyer III?</td>\n",
       "      <td>Fort Myer Virginia</td>\n",
       "      <td>Army U.S. - Military</td>\n",
       "      <td>0</td>\n",
       "      <td>1</td>\n",
       "      <td>2</td>\n",
       "    </tr>\n",
       "    <tr>\n",
       "      <th>1</th>\n",
       "      <td>1909</td>\n",
       "      <td>Qtr 3</td>\n",
       "      <td>September</td>\n",
       "      <td>7</td>\n",
       "      <td>France?</td>\n",
       "      <td>Wright</td>\n",
       "      <td>Wright ByplaneSC1</td>\n",
       "      <td>Juvisy-sur-Orge France?</td>\n",
       "      <td>NaN</td>\n",
       "      <td>0</td>\n",
       "      <td>1</td>\n",
       "      <td>1</td>\n",
       "    </tr>\n",
       "    <tr>\n",
       "      <th>2</th>\n",
       "      <td>1912</td>\n",
       "      <td>Qtr 3</td>\n",
       "      <td>July</td>\n",
       "      <td>12</td>\n",
       "      <td>New</td>\n",
       "      <td>Dirigible?</td>\n",
       "      <td>Dirigible?</td>\n",
       "      <td>Atlantic City New</td>\n",
       "      <td>Navy U.S. - JerseyMilitary</td>\n",
       "      <td>0</td>\n",
       "      <td>5</td>\n",
       "      <td>5</td>\n",
       "    </tr>\n",
       "    <tr>\n",
       "      <th>3</th>\n",
       "      <td>1913</td>\n",
       "      <td>Qtr 3</td>\n",
       "      <td>September</td>\n",
       "      <td>9</td>\n",
       "      <td>NaN</td>\n",
       "      <td>Zeppelin</td>\n",
       "      <td>Zeppelin L 1 (airship)?</td>\n",
       "      <td>Over the North SeaMilitary - German Navy</td>\n",
       "      <td>NaN</td>\n",
       "      <td>0</td>\n",
       "      <td>14</td>\n",
       "      <td>20</td>\n",
       "    </tr>\n",
       "    <tr>\n",
       "      <th>4</th>\n",
       "      <td>1913</td>\n",
       "      <td>Qtr 4</td>\n",
       "      <td>October</td>\n",
       "      <td>17</td>\n",
       "      <td>Germany</td>\n",
       "      <td>Zeppelin</td>\n",
       "      <td>Zeppelin L 2 (airship)?</td>\n",
       "      <td>Near Johannisthal Germany</td>\n",
       "      <td>Navy German - Military</td>\n",
       "      <td>0</td>\n",
       "      <td>28</td>\n",
       "      <td>28</td>\n",
       "    </tr>\n",
       "  </tbody>\n",
       "</table>\n",
       "</div>"
      ],
      "text/plain": [
       "   Year Quarter      Month  Day Country/Region Aircraft Manufacturer  \\\n",
       "0  1908   Qtr 3  September   17       Virginia          Wright Flyer   \n",
       "1  1909   Qtr 3  September    7        France?                Wright   \n",
       "2  1912   Qtr 3       July   12            New            Dirigible?   \n",
       "3  1913   Qtr 3  September    9            NaN              Zeppelin   \n",
       "4  1913   Qtr 4    October   17        Germany              Zeppelin   \n",
       "\n",
       "                  Aircraft                                  Location  \\\n",
       "0        Wright Flyer III?                        Fort Myer Virginia   \n",
       "1        Wright ByplaneSC1                   Juvisy-sur-Orge France?   \n",
       "2               Dirigible?                         Atlantic City New   \n",
       "3  Zeppelin L 1 (airship)?  Over the North SeaMilitary - German Navy   \n",
       "4  Zeppelin L 2 (airship)?                 Near Johannisthal Germany   \n",
       "\n",
       "                     Operator  Ground  Fatalities (air)  Aboard  \n",
       "0        Army U.S. - Military       0                 1       2  \n",
       "1                         NaN       0                 1       1  \n",
       "2  Navy U.S. - JerseyMilitary       0                 5       5  \n",
       "3                         NaN       0                14      20  \n",
       "4      Navy German - Military       0                28      28  "
      ]
     },
     "execution_count": 4,
     "metadata": {},
     "output_type": "execute_result"
    }
   ],
   "source": [
    "df = df.reset_index(drop=True)\n",
    "df.head()"
   ]
  },
  {
   "cell_type": "code",
   "execution_count": 5,
   "id": "c08830a8-e020-4c33-88bb-a2e726969103",
   "metadata": {
    "tags": []
   },
   "outputs": [
    {
     "data": {
      "text/html": [
       "<div>\n",
       "<style scoped>\n",
       "    .dataframe tbody tr th:only-of-type {\n",
       "        vertical-align: middle;\n",
       "    }\n",
       "\n",
       "    .dataframe tbody tr th {\n",
       "        vertical-align: top;\n",
       "    }\n",
       "\n",
       "    .dataframe thead th {\n",
       "        text-align: right;\n",
       "    }\n",
       "</style>\n",
       "<table border=\"1\" class=\"dataframe\">\n",
       "  <thead>\n",
       "    <tr style=\"text-align: right;\">\n",
       "      <th></th>\n",
       "      <th>Year</th>\n",
       "      <th>Quarter</th>\n",
       "      <th>Month</th>\n",
       "      <th>Day</th>\n",
       "      <th>Country/Region</th>\n",
       "      <th>Aircraft Manufacturer</th>\n",
       "      <th>Aircraft</th>\n",
       "      <th>Location</th>\n",
       "      <th>Operator</th>\n",
       "      <th>Ground</th>\n",
       "      <th>Fatalities (air)</th>\n",
       "      <th>Aboard</th>\n",
       "    </tr>\n",
       "  </thead>\n",
       "  <tbody>\n",
       "    <tr>\n",
       "      <th>0</th>\n",
       "      <td>1908</td>\n",
       "      <td>Qtr 3</td>\n",
       "      <td>September</td>\n",
       "      <td>17</td>\n",
       "      <td>Virginia</td>\n",
       "      <td>Wright Flyer</td>\n",
       "      <td>Wright Flyer III?</td>\n",
       "      <td>Fort Myer Virginia</td>\n",
       "      <td>Army U.S. - Military</td>\n",
       "      <td>0</td>\n",
       "      <td>1</td>\n",
       "      <td>2</td>\n",
       "    </tr>\n",
       "    <tr>\n",
       "      <th>1</th>\n",
       "      <td>1909</td>\n",
       "      <td>Qtr 3</td>\n",
       "      <td>September</td>\n",
       "      <td>7</td>\n",
       "      <td>France</td>\n",
       "      <td>Wright</td>\n",
       "      <td>Wright ByplaneSC1</td>\n",
       "      <td>Juvisy-sur-Orge France?</td>\n",
       "      <td>NaN</td>\n",
       "      <td>0</td>\n",
       "      <td>1</td>\n",
       "      <td>1</td>\n",
       "    </tr>\n",
       "    <tr>\n",
       "      <th>2</th>\n",
       "      <td>1912</td>\n",
       "      <td>Qtr 3</td>\n",
       "      <td>July</td>\n",
       "      <td>12</td>\n",
       "      <td>New</td>\n",
       "      <td>Dirigible?</td>\n",
       "      <td>Dirigible?</td>\n",
       "      <td>Atlantic City New</td>\n",
       "      <td>Navy U.S. - JerseyMilitary</td>\n",
       "      <td>0</td>\n",
       "      <td>5</td>\n",
       "      <td>5</td>\n",
       "    </tr>\n",
       "    <tr>\n",
       "      <th>3</th>\n",
       "      <td>1913</td>\n",
       "      <td>Qtr 3</td>\n",
       "      <td>September</td>\n",
       "      <td>9</td>\n",
       "      <td>NaN</td>\n",
       "      <td>Zeppelin</td>\n",
       "      <td>Zeppelin L 1 (airship)?</td>\n",
       "      <td>Over the North SeaMilitary - German Navy</td>\n",
       "      <td>NaN</td>\n",
       "      <td>0</td>\n",
       "      <td>14</td>\n",
       "      <td>20</td>\n",
       "    </tr>\n",
       "    <tr>\n",
       "      <th>4</th>\n",
       "      <td>1913</td>\n",
       "      <td>Qtr 4</td>\n",
       "      <td>October</td>\n",
       "      <td>17</td>\n",
       "      <td>Germany</td>\n",
       "      <td>Zeppelin</td>\n",
       "      <td>Zeppelin L 2 (airship)?</td>\n",
       "      <td>Near Johannisthal Germany</td>\n",
       "      <td>Navy German - Military</td>\n",
       "      <td>0</td>\n",
       "      <td>28</td>\n",
       "      <td>28</td>\n",
       "    </tr>\n",
       "    <tr>\n",
       "      <th>...</th>\n",
       "      <td>...</td>\n",
       "      <td>...</td>\n",
       "      <td>...</td>\n",
       "      <td>...</td>\n",
       "      <td>...</td>\n",
       "      <td>...</td>\n",
       "      <td>...</td>\n",
       "      <td>...</td>\n",
       "      <td>...</td>\n",
       "      <td>...</td>\n",
       "      <td>...</td>\n",
       "      <td>...</td>\n",
       "    </tr>\n",
       "    <tr>\n",
       "      <th>5030</th>\n",
       "      <td>2024</td>\n",
       "      <td>Qtr 1</td>\n",
       "      <td>January</td>\n",
       "      <td>23</td>\n",
       "      <td>NWT Canada</td>\n",
       "      <td>BAe</td>\n",
       "      <td>BAe 3212 Jetstream</td>\n",
       "      <td>Fort Smith</td>\n",
       "      <td>Northwestern Air Lease LTD</td>\n",
       "      <td>0</td>\n",
       "      <td>6</td>\n",
       "      <td>7</td>\n",
       "    </tr>\n",
       "    <tr>\n",
       "      <th>5031</th>\n",
       "      <td>2024</td>\n",
       "      <td>Qtr 1</td>\n",
       "      <td>January</td>\n",
       "      <td>18</td>\n",
       "      <td>Somalia</td>\n",
       "      <td>Fokker</td>\n",
       "      <td>Fokker 505YJWG</td>\n",
       "      <td>Ceel Barde</td>\n",
       "      <td>Jetways Airlines</td>\n",
       "      <td>0</td>\n",
       "      <td>1</td>\n",
       "      <td>4</td>\n",
       "    </tr>\n",
       "    <tr>\n",
       "      <th>5032</th>\n",
       "      <td>2024</td>\n",
       "      <td>Qtr 1</td>\n",
       "      <td>January</td>\n",
       "      <td>2</td>\n",
       "      <td>Japan</td>\n",
       "      <td>Airbus</td>\n",
       "      <td>Airbus A350-941/de Havilla DHC</td>\n",
       "      <td>Tokyo</td>\n",
       "      <td>Japan Airlines   Japan Coast Guard</td>\n",
       "      <td>0</td>\n",
       "      <td>5</td>\n",
       "      <td>385</td>\n",
       "    </tr>\n",
       "    <tr>\n",
       "      <th>5033</th>\n",
       "      <td>2024</td>\n",
       "      <td>Qtr 2</td>\n",
       "      <td>May</td>\n",
       "      <td>21</td>\n",
       "      <td>Myanmar</td>\n",
       "      <td>Boeing</td>\n",
       "      <td>Boeing 777-312ER9V-SWM</td>\n",
       "      <td>Over Irrawaddy Basin</td>\n",
       "      <td>Singapore Airllines</td>\n",
       "      <td>0</td>\n",
       "      <td>1</td>\n",
       "      <td>229</td>\n",
       "    </tr>\n",
       "    <tr>\n",
       "      <th>5034</th>\n",
       "      <td>2024</td>\n",
       "      <td>Qtr 2</td>\n",
       "      <td>April</td>\n",
       "      <td>23</td>\n",
       "      <td>Alaska</td>\n",
       "      <td>Douglas</td>\n",
       "      <td>Douglas C-54D Skymaster N3054V</td>\n",
       "      <td>Near Fairbanks</td>\n",
       "      <td>Alaska Air Fuel</td>\n",
       "      <td>0</td>\n",
       "      <td>2</td>\n",
       "      <td>2</td>\n",
       "    </tr>\n",
       "  </tbody>\n",
       "</table>\n",
       "<p>5035 rows × 12 columns</p>\n",
       "</div>"
      ],
      "text/plain": [
       "      Year Quarter      Month  Day Country/Region Aircraft Manufacturer  \\\n",
       "0     1908   Qtr 3  September   17       Virginia          Wright Flyer   \n",
       "1     1909   Qtr 3  September    7         France                Wright   \n",
       "2     1912   Qtr 3       July   12            New            Dirigible?   \n",
       "3     1913   Qtr 3  September    9            NaN              Zeppelin   \n",
       "4     1913   Qtr 4    October   17        Germany              Zeppelin   \n",
       "...    ...     ...        ...  ...            ...                   ...   \n",
       "5030  2024   Qtr 1    January   23     NWT Canada                   BAe   \n",
       "5031  2024   Qtr 1    January   18        Somalia                Fokker   \n",
       "5032  2024   Qtr 1    January    2          Japan                Airbus   \n",
       "5033  2024   Qtr 2        May   21        Myanmar                Boeing   \n",
       "5034  2024   Qtr 2      April   23         Alaska               Douglas   \n",
       "\n",
       "                            Aircraft  \\\n",
       "0                  Wright Flyer III?   \n",
       "1                  Wright ByplaneSC1   \n",
       "2                         Dirigible?   \n",
       "3            Zeppelin L 1 (airship)?   \n",
       "4            Zeppelin L 2 (airship)?   \n",
       "...                              ...   \n",
       "5030              BAe 3212 Jetstream   \n",
       "5031                  Fokker 505YJWG   \n",
       "5032  Airbus A350-941/de Havilla DHC   \n",
       "5033          Boeing 777-312ER9V-SWM   \n",
       "5034  Douglas C-54D Skymaster N3054V   \n",
       "\n",
       "                                      Location  \\\n",
       "0                           Fort Myer Virginia   \n",
       "1                      Juvisy-sur-Orge France?   \n",
       "2                            Atlantic City New   \n",
       "3     Over the North SeaMilitary - German Navy   \n",
       "4                    Near Johannisthal Germany   \n",
       "...                                        ...   \n",
       "5030                                Fort Smith   \n",
       "5031                                Ceel Barde   \n",
       "5032                                     Tokyo   \n",
       "5033                      Over Irrawaddy Basin   \n",
       "5034                            Near Fairbanks   \n",
       "\n",
       "                                Operator  Ground  Fatalities (air)  Aboard  \n",
       "0                   Army U.S. - Military       0                 1       2  \n",
       "1                                    NaN       0                 1       1  \n",
       "2             Navy U.S. - JerseyMilitary       0                 5       5  \n",
       "3                                    NaN       0                14      20  \n",
       "4                 Navy German - Military       0                28      28  \n",
       "...                                  ...     ...               ...     ...  \n",
       "5030          Northwestern Air Lease LTD       0                 6       7  \n",
       "5031                    Jetways Airlines       0                 1       4  \n",
       "5032  Japan Airlines   Japan Coast Guard       0                 5     385  \n",
       "5033                 Singapore Airllines       0                 1     229  \n",
       "5034                     Alaska Air Fuel       0                 2       2  \n",
       "\n",
       "[5035 rows x 12 columns]"
      ]
     },
     "execution_count": 5,
     "metadata": {},
     "output_type": "execute_result"
    }
   ],
   "source": [
    "df.loc[:,\"Country/Region\"]=df.loc[:,\"Country/Region\"].str.replace(\"'-\",'').str.replace(\"?\",'').str.replace(\"10\",\"None\").str.replace(\"100\",\"None\").str.replace(\"110\",\"None\").str.replace(\"116\",\"None\").str.replace(\"18\",\"None\").str.replace(\"325\",\"None\").str.replace(\"570\",\"None\").str.replace(\"800\",\"None\")\n",
    "df"
   ]
  },
  {
   "cell_type": "code",
   "execution_count": 6,
   "id": "85ba6c14-6864-4d9b-bc3d-ad0775732340",
   "metadata": {
    "tags": []
   },
   "outputs": [
    {
     "data": {
      "text/html": [
       "<div>\n",
       "<style scoped>\n",
       "    .dataframe tbody tr th:only-of-type {\n",
       "        vertical-align: middle;\n",
       "    }\n",
       "\n",
       "    .dataframe tbody tr th {\n",
       "        vertical-align: top;\n",
       "    }\n",
       "\n",
       "    .dataframe thead th {\n",
       "        text-align: right;\n",
       "    }\n",
       "</style>\n",
       "<table border=\"1\" class=\"dataframe\">\n",
       "  <thead>\n",
       "    <tr style=\"text-align: right;\">\n",
       "      <th></th>\n",
       "      <th>Year</th>\n",
       "      <th>Quarter</th>\n",
       "      <th>Month</th>\n",
       "      <th>Day</th>\n",
       "      <th>Country/Region</th>\n",
       "      <th>Aircraft Manufacturer</th>\n",
       "      <th>Aircraft</th>\n",
       "      <th>Location</th>\n",
       "      <th>Operator</th>\n",
       "      <th>Ground</th>\n",
       "      <th>Fatalities (air)</th>\n",
       "      <th>Aboard</th>\n",
       "    </tr>\n",
       "  </thead>\n",
       "  <tbody>\n",
       "    <tr>\n",
       "      <th>0</th>\n",
       "      <td>1908</td>\n",
       "      <td>Qtr 3</td>\n",
       "      <td>September</td>\n",
       "      <td>17</td>\n",
       "      <td>Virginia</td>\n",
       "      <td>Wright Flyer</td>\n",
       "      <td>Wright Flyer III?</td>\n",
       "      <td>Fort Myer Virginia</td>\n",
       "      <td>Army U.S. - Military</td>\n",
       "      <td>0</td>\n",
       "      <td>1</td>\n",
       "      <td>2</td>\n",
       "    </tr>\n",
       "    <tr>\n",
       "      <th>1</th>\n",
       "      <td>1909</td>\n",
       "      <td>Qtr 3</td>\n",
       "      <td>September</td>\n",
       "      <td>7</td>\n",
       "      <td>France</td>\n",
       "      <td>Wright</td>\n",
       "      <td>Wright ByplaneSC1</td>\n",
       "      <td>Juvisy-sur-Orge France?</td>\n",
       "      <td>NaN</td>\n",
       "      <td>0</td>\n",
       "      <td>1</td>\n",
       "      <td>1</td>\n",
       "    </tr>\n",
       "    <tr>\n",
       "      <th>2</th>\n",
       "      <td>1912</td>\n",
       "      <td>Qtr 3</td>\n",
       "      <td>July</td>\n",
       "      <td>12</td>\n",
       "      <td>New</td>\n",
       "      <td>Dirigible?</td>\n",
       "      <td>Dirigible?</td>\n",
       "      <td>Atlantic City New</td>\n",
       "      <td>Navy U.S. - JerseyMilitary</td>\n",
       "      <td>0</td>\n",
       "      <td>5</td>\n",
       "      <td>5</td>\n",
       "    </tr>\n",
       "    <tr>\n",
       "      <th>3</th>\n",
       "      <td>1913</td>\n",
       "      <td>Qtr 3</td>\n",
       "      <td>September</td>\n",
       "      <td>9</td>\n",
       "      <td>None</td>\n",
       "      <td>Zeppelin</td>\n",
       "      <td>Zeppelin L 1 (airship)?</td>\n",
       "      <td>Over the North SeaMilitary - German Navy</td>\n",
       "      <td>NaN</td>\n",
       "      <td>0</td>\n",
       "      <td>14</td>\n",
       "      <td>20</td>\n",
       "    </tr>\n",
       "    <tr>\n",
       "      <th>4</th>\n",
       "      <td>1913</td>\n",
       "      <td>Qtr 4</td>\n",
       "      <td>October</td>\n",
       "      <td>17</td>\n",
       "      <td>Germany</td>\n",
       "      <td>Zeppelin</td>\n",
       "      <td>Zeppelin L 2 (airship)?</td>\n",
       "      <td>Near Johannisthal Germany</td>\n",
       "      <td>Navy German - Military</td>\n",
       "      <td>0</td>\n",
       "      <td>28</td>\n",
       "      <td>28</td>\n",
       "    </tr>\n",
       "  </tbody>\n",
       "</table>\n",
       "</div>"
      ],
      "text/plain": [
       "   Year Quarter      Month  Day Country/Region Aircraft Manufacturer  \\\n",
       "0  1908   Qtr 3  September   17       Virginia          Wright Flyer   \n",
       "1  1909   Qtr 3  September    7         France                Wright   \n",
       "2  1912   Qtr 3       July   12            New            Dirigible?   \n",
       "3  1913   Qtr 3  September    9           None              Zeppelin   \n",
       "4  1913   Qtr 4    October   17        Germany              Zeppelin   \n",
       "\n",
       "                  Aircraft                                  Location  \\\n",
       "0        Wright Flyer III?                        Fort Myer Virginia   \n",
       "1        Wright ByplaneSC1                   Juvisy-sur-Orge France?   \n",
       "2               Dirigible?                         Atlantic City New   \n",
       "3  Zeppelin L 1 (airship)?  Over the North SeaMilitary - German Navy   \n",
       "4  Zeppelin L 2 (airship)?                 Near Johannisthal Germany   \n",
       "\n",
       "                     Operator  Ground  Fatalities (air)  Aboard  \n",
       "0        Army U.S. - Military       0                 1       2  \n",
       "1                         NaN       0                 1       1  \n",
       "2  Navy U.S. - JerseyMilitary       0                 5       5  \n",
       "3                         NaN       0                14      20  \n",
       "4      Navy German - Military       0                28      28  "
      ]
     },
     "execution_count": 6,
     "metadata": {},
     "output_type": "execute_result"
    }
   ],
   "source": [
    "df.loc[:,\"Country/Region\"]=df.loc[:,\"Country/Region\"].fillna(\"None\")\n",
    "df.head()\n"
   ]
  },
  {
   "cell_type": "code",
   "execution_count": 7,
   "id": "4ae7a355-9adc-4860-9dfd-397753a4eb48",
   "metadata": {
    "tags": []
   },
   "outputs": [
    {
     "data": {
      "text/html": [
       "<div>\n",
       "<style scoped>\n",
       "    .dataframe tbody tr th:only-of-type {\n",
       "        vertical-align: middle;\n",
       "    }\n",
       "\n",
       "    .dataframe tbody tr th {\n",
       "        vertical-align: top;\n",
       "    }\n",
       "\n",
       "    .dataframe thead th {\n",
       "        text-align: right;\n",
       "    }\n",
       "</style>\n",
       "<table border=\"1\" class=\"dataframe\">\n",
       "  <thead>\n",
       "    <tr style=\"text-align: right;\">\n",
       "      <th></th>\n",
       "      <th>Year</th>\n",
       "      <th>Quarter</th>\n",
       "      <th>Month</th>\n",
       "      <th>Day</th>\n",
       "      <th>Country/Region</th>\n",
       "      <th>Aircraft Manufacturer</th>\n",
       "      <th>Aircraft</th>\n",
       "      <th>Location</th>\n",
       "      <th>Operator</th>\n",
       "      <th>Ground</th>\n",
       "      <th>Fatalities (air)</th>\n",
       "      <th>Aboard</th>\n",
       "    </tr>\n",
       "  </thead>\n",
       "  <tbody>\n",
       "    <tr>\n",
       "      <th>0</th>\n",
       "      <td>1908</td>\n",
       "      <td>Qtr 3</td>\n",
       "      <td>September</td>\n",
       "      <td>17</td>\n",
       "      <td>Virginia</td>\n",
       "      <td>Wright Flyer</td>\n",
       "      <td>Wright Flyer III?</td>\n",
       "      <td>Fort Myer Virginia</td>\n",
       "      <td>Army U.S. - Military</td>\n",
       "      <td>0</td>\n",
       "      <td>1</td>\n",
       "      <td>2</td>\n",
       "    </tr>\n",
       "    <tr>\n",
       "      <th>1</th>\n",
       "      <td>1909</td>\n",
       "      <td>Qtr 3</td>\n",
       "      <td>September</td>\n",
       "      <td>7</td>\n",
       "      <td>France</td>\n",
       "      <td>Wright</td>\n",
       "      <td>Wright ByplaneSC1</td>\n",
       "      <td>Juvisy-sur-Orge France?</td>\n",
       "      <td>NaN</td>\n",
       "      <td>0</td>\n",
       "      <td>1</td>\n",
       "      <td>1</td>\n",
       "    </tr>\n",
       "    <tr>\n",
       "      <th>2</th>\n",
       "      <td>1912</td>\n",
       "      <td>Qtr 3</td>\n",
       "      <td>July</td>\n",
       "      <td>12</td>\n",
       "      <td>New</td>\n",
       "      <td>Dirigible</td>\n",
       "      <td>Dirigible?</td>\n",
       "      <td>Atlantic City New</td>\n",
       "      <td>Navy U.S. - JerseyMilitary</td>\n",
       "      <td>0</td>\n",
       "      <td>5</td>\n",
       "      <td>5</td>\n",
       "    </tr>\n",
       "    <tr>\n",
       "      <th>3</th>\n",
       "      <td>1913</td>\n",
       "      <td>Qtr 3</td>\n",
       "      <td>September</td>\n",
       "      <td>9</td>\n",
       "      <td>None</td>\n",
       "      <td>Zeppelin</td>\n",
       "      <td>Zeppelin L 1 (airship)?</td>\n",
       "      <td>Over the North SeaMilitary - German Navy</td>\n",
       "      <td>NaN</td>\n",
       "      <td>0</td>\n",
       "      <td>14</td>\n",
       "      <td>20</td>\n",
       "    </tr>\n",
       "    <tr>\n",
       "      <th>4</th>\n",
       "      <td>1913</td>\n",
       "      <td>Qtr 4</td>\n",
       "      <td>October</td>\n",
       "      <td>17</td>\n",
       "      <td>Germany</td>\n",
       "      <td>Zeppelin</td>\n",
       "      <td>Zeppelin L 2 (airship)?</td>\n",
       "      <td>Near Johannisthal Germany</td>\n",
       "      <td>Navy German - Military</td>\n",
       "      <td>0</td>\n",
       "      <td>28</td>\n",
       "      <td>28</td>\n",
       "    </tr>\n",
       "  </tbody>\n",
       "</table>\n",
       "</div>"
      ],
      "text/plain": [
       "   Year Quarter      Month  Day Country/Region Aircraft Manufacturer  \\\n",
       "0  1908   Qtr 3  September   17       Virginia          Wright Flyer   \n",
       "1  1909   Qtr 3  September    7         France                Wright   \n",
       "2  1912   Qtr 3       July   12            New             Dirigible   \n",
       "3  1913   Qtr 3  September    9           None              Zeppelin   \n",
       "4  1913   Qtr 4    October   17        Germany              Zeppelin   \n",
       "\n",
       "                  Aircraft                                  Location  \\\n",
       "0        Wright Flyer III?                        Fort Myer Virginia   \n",
       "1        Wright ByplaneSC1                   Juvisy-sur-Orge France?   \n",
       "2               Dirigible?                         Atlantic City New   \n",
       "3  Zeppelin L 1 (airship)?  Over the North SeaMilitary - German Navy   \n",
       "4  Zeppelin L 2 (airship)?                 Near Johannisthal Germany   \n",
       "\n",
       "                     Operator  Ground  Fatalities (air)  Aboard  \n",
       "0        Army U.S. - Military       0                 1       2  \n",
       "1                         NaN       0                 1       1  \n",
       "2  Navy U.S. - JerseyMilitary       0                 5       5  \n",
       "3                         NaN       0                14      20  \n",
       "4      Navy German - Military       0                28      28  "
      ]
     },
     "execution_count": 7,
     "metadata": {},
     "output_type": "execute_result"
    }
   ],
   "source": [
    "df.loc[:,\"Aircraft Manufacturer\"]=df.loc[:,\"Aircraft Manufacturer\"].str.replace(\"?\",'').str.replace(\"139\",\"None\").str.replace(\"42\",\"None\")\n",
    "df.head()"
   ]
  },
  {
   "cell_type": "code",
   "execution_count": 8,
   "id": "183953aa-4bfa-44d7-9d18-85c92208b706",
   "metadata": {
    "tags": []
   },
   "outputs": [
    {
     "data": {
      "text/html": [
       "<div>\n",
       "<style scoped>\n",
       "    .dataframe tbody tr th:only-of-type {\n",
       "        vertical-align: middle;\n",
       "    }\n",
       "\n",
       "    .dataframe tbody tr th {\n",
       "        vertical-align: top;\n",
       "    }\n",
       "\n",
       "    .dataframe thead th {\n",
       "        text-align: right;\n",
       "    }\n",
       "</style>\n",
       "<table border=\"1\" class=\"dataframe\">\n",
       "  <thead>\n",
       "    <tr style=\"text-align: right;\">\n",
       "      <th></th>\n",
       "      <th>Year</th>\n",
       "      <th>Quarter</th>\n",
       "      <th>Month</th>\n",
       "      <th>Day</th>\n",
       "      <th>Country/Region</th>\n",
       "      <th>Aircraft Manufacturer</th>\n",
       "      <th>Aircraft</th>\n",
       "      <th>Location</th>\n",
       "      <th>Operator</th>\n",
       "      <th>Ground</th>\n",
       "      <th>Fatalities (air)</th>\n",
       "      <th>Aboard</th>\n",
       "    </tr>\n",
       "  </thead>\n",
       "  <tbody>\n",
       "    <tr>\n",
       "      <th>0</th>\n",
       "      <td>1908</td>\n",
       "      <td>Qtr 3</td>\n",
       "      <td>September</td>\n",
       "      <td>17</td>\n",
       "      <td>Virginia</td>\n",
       "      <td>Wright Flyer</td>\n",
       "      <td>Wright Flyer III</td>\n",
       "      <td>Fort Myer Virginia</td>\n",
       "      <td>Army U.S. - Military</td>\n",
       "      <td>0</td>\n",
       "      <td>1</td>\n",
       "      <td>2</td>\n",
       "    </tr>\n",
       "    <tr>\n",
       "      <th>1</th>\n",
       "      <td>1909</td>\n",
       "      <td>Qtr 3</td>\n",
       "      <td>September</td>\n",
       "      <td>7</td>\n",
       "      <td>France</td>\n",
       "      <td>Wright</td>\n",
       "      <td>Wright ByplaneSC1</td>\n",
       "      <td>Juvisy-sur-Orge France?</td>\n",
       "      <td>NaN</td>\n",
       "      <td>0</td>\n",
       "      <td>1</td>\n",
       "      <td>1</td>\n",
       "    </tr>\n",
       "    <tr>\n",
       "      <th>2</th>\n",
       "      <td>1912</td>\n",
       "      <td>Qtr 3</td>\n",
       "      <td>July</td>\n",
       "      <td>12</td>\n",
       "      <td>New</td>\n",
       "      <td>Dirigible</td>\n",
       "      <td>Dirigible</td>\n",
       "      <td>Atlantic City New</td>\n",
       "      <td>Navy U.S. - JerseyMilitary</td>\n",
       "      <td>0</td>\n",
       "      <td>5</td>\n",
       "      <td>5</td>\n",
       "    </tr>\n",
       "    <tr>\n",
       "      <th>3</th>\n",
       "      <td>1913</td>\n",
       "      <td>Qtr 3</td>\n",
       "      <td>September</td>\n",
       "      <td>9</td>\n",
       "      <td>None</td>\n",
       "      <td>Zeppelin</td>\n",
       "      <td>Zeppelin L 1 (airship)</td>\n",
       "      <td>Over the North SeaMilitary - German Navy</td>\n",
       "      <td>NaN</td>\n",
       "      <td>0</td>\n",
       "      <td>14</td>\n",
       "      <td>20</td>\n",
       "    </tr>\n",
       "    <tr>\n",
       "      <th>4</th>\n",
       "      <td>1913</td>\n",
       "      <td>Qtr 4</td>\n",
       "      <td>October</td>\n",
       "      <td>17</td>\n",
       "      <td>Germany</td>\n",
       "      <td>Zeppelin</td>\n",
       "      <td>Zeppelin L 2 (airship)</td>\n",
       "      <td>Near Johannisthal Germany</td>\n",
       "      <td>Navy German - Military</td>\n",
       "      <td>0</td>\n",
       "      <td>28</td>\n",
       "      <td>28</td>\n",
       "    </tr>\n",
       "  </tbody>\n",
       "</table>\n",
       "</div>"
      ],
      "text/plain": [
       "   Year Quarter      Month  Day Country/Region Aircraft Manufacturer  \\\n",
       "0  1908   Qtr 3  September   17       Virginia          Wright Flyer   \n",
       "1  1909   Qtr 3  September    7         France                Wright   \n",
       "2  1912   Qtr 3       July   12            New             Dirigible   \n",
       "3  1913   Qtr 3  September    9           None              Zeppelin   \n",
       "4  1913   Qtr 4    October   17        Germany              Zeppelin   \n",
       "\n",
       "                 Aircraft                                  Location  \\\n",
       "0        Wright Flyer III                        Fort Myer Virginia   \n",
       "1       Wright ByplaneSC1                   Juvisy-sur-Orge France?   \n",
       "2               Dirigible                         Atlantic City New   \n",
       "3  Zeppelin L 1 (airship)  Over the North SeaMilitary - German Navy   \n",
       "4  Zeppelin L 2 (airship)                 Near Johannisthal Germany   \n",
       "\n",
       "                     Operator  Ground  Fatalities (air)  Aboard  \n",
       "0        Army U.S. - Military       0                 1       2  \n",
       "1                         NaN       0                 1       1  \n",
       "2  Navy U.S. - JerseyMilitary       0                 5       5  \n",
       "3                         NaN       0                14      20  \n",
       "4      Navy German - Military       0                28      28  "
      ]
     },
     "execution_count": 8,
     "metadata": {},
     "output_type": "execute_result"
    }
   ],
   "source": [
    "df.loc[:,\"Aircraft\"]=df.loc[:,\"Aircraft\"].str.replace(\"?\",'')\n",
    "df.head()"
   ]
  },
  {
   "cell_type": "code",
   "execution_count": 9,
   "id": "f76d00b4-dbe3-45f2-93b0-c7ca677b7058",
   "metadata": {
    "tags": []
   },
   "outputs": [
    {
     "data": {
      "text/html": [
       "<div>\n",
       "<style scoped>\n",
       "    .dataframe tbody tr th:only-of-type {\n",
       "        vertical-align: middle;\n",
       "    }\n",
       "\n",
       "    .dataframe tbody tr th {\n",
       "        vertical-align: top;\n",
       "    }\n",
       "\n",
       "    .dataframe thead th {\n",
       "        text-align: right;\n",
       "    }\n",
       "</style>\n",
       "<table border=\"1\" class=\"dataframe\">\n",
       "  <thead>\n",
       "    <tr style=\"text-align: right;\">\n",
       "      <th></th>\n",
       "      <th>Year</th>\n",
       "      <th>Quarter</th>\n",
       "      <th>Month</th>\n",
       "      <th>Day</th>\n",
       "      <th>Country/Region</th>\n",
       "      <th>Aircraft Manufacturer</th>\n",
       "      <th>Aircraft</th>\n",
       "      <th>Location</th>\n",
       "      <th>Operator</th>\n",
       "      <th>Ground</th>\n",
       "      <th>Fatalities (air)</th>\n",
       "      <th>Aboard</th>\n",
       "    </tr>\n",
       "  </thead>\n",
       "  <tbody>\n",
       "    <tr>\n",
       "      <th>0</th>\n",
       "      <td>1908</td>\n",
       "      <td>Qtr 3</td>\n",
       "      <td>September</td>\n",
       "      <td>17</td>\n",
       "      <td>Virginia</td>\n",
       "      <td>Wright Flyer</td>\n",
       "      <td>Wright Flyer III</td>\n",
       "      <td>Fort Myer Virginia</td>\n",
       "      <td>Army U.S. - Military</td>\n",
       "      <td>0</td>\n",
       "      <td>1</td>\n",
       "      <td>2</td>\n",
       "    </tr>\n",
       "    <tr>\n",
       "      <th>1</th>\n",
       "      <td>1909</td>\n",
       "      <td>Qtr 3</td>\n",
       "      <td>September</td>\n",
       "      <td>7</td>\n",
       "      <td>France</td>\n",
       "      <td>Wright</td>\n",
       "      <td>Wright ByplaneSC1</td>\n",
       "      <td>Juvisy-sur-Orge France</td>\n",
       "      <td>NaN</td>\n",
       "      <td>0</td>\n",
       "      <td>1</td>\n",
       "      <td>1</td>\n",
       "    </tr>\n",
       "    <tr>\n",
       "      <th>2</th>\n",
       "      <td>1912</td>\n",
       "      <td>Qtr 3</td>\n",
       "      <td>July</td>\n",
       "      <td>12</td>\n",
       "      <td>New</td>\n",
       "      <td>Dirigible</td>\n",
       "      <td>Dirigible</td>\n",
       "      <td>Atlantic City New</td>\n",
       "      <td>Navy U.S. - JerseyMilitary</td>\n",
       "      <td>0</td>\n",
       "      <td>5</td>\n",
       "      <td>5</td>\n",
       "    </tr>\n",
       "    <tr>\n",
       "      <th>3</th>\n",
       "      <td>1913</td>\n",
       "      <td>Qtr 3</td>\n",
       "      <td>September</td>\n",
       "      <td>9</td>\n",
       "      <td>None</td>\n",
       "      <td>Zeppelin</td>\n",
       "      <td>Zeppelin L 1 (airship)</td>\n",
       "      <td>Over the North SeaMilitary - German Navy</td>\n",
       "      <td>NaN</td>\n",
       "      <td>0</td>\n",
       "      <td>14</td>\n",
       "      <td>20</td>\n",
       "    </tr>\n",
       "    <tr>\n",
       "      <th>4</th>\n",
       "      <td>1913</td>\n",
       "      <td>Qtr 4</td>\n",
       "      <td>October</td>\n",
       "      <td>17</td>\n",
       "      <td>Germany</td>\n",
       "      <td>Zeppelin</td>\n",
       "      <td>Zeppelin L 2 (airship)</td>\n",
       "      <td>Near Johannisthal Germany</td>\n",
       "      <td>Navy German - Military</td>\n",
       "      <td>0</td>\n",
       "      <td>28</td>\n",
       "      <td>28</td>\n",
       "    </tr>\n",
       "  </tbody>\n",
       "</table>\n",
       "</div>"
      ],
      "text/plain": [
       "   Year Quarter      Month  Day Country/Region Aircraft Manufacturer  \\\n",
       "0  1908   Qtr 3  September   17       Virginia          Wright Flyer   \n",
       "1  1909   Qtr 3  September    7         France                Wright   \n",
       "2  1912   Qtr 3       July   12            New             Dirigible   \n",
       "3  1913   Qtr 3  September    9           None              Zeppelin   \n",
       "4  1913   Qtr 4    October   17        Germany              Zeppelin   \n",
       "\n",
       "                 Aircraft                                  Location  \\\n",
       "0        Wright Flyer III                        Fort Myer Virginia   \n",
       "1       Wright ByplaneSC1                    Juvisy-sur-Orge France   \n",
       "2               Dirigible                         Atlantic City New   \n",
       "3  Zeppelin L 1 (airship)  Over the North SeaMilitary - German Navy   \n",
       "4  Zeppelin L 2 (airship)                 Near Johannisthal Germany   \n",
       "\n",
       "                     Operator  Ground  Fatalities (air)  Aboard  \n",
       "0        Army U.S. - Military       0                 1       2  \n",
       "1                         NaN       0                 1       1  \n",
       "2  Navy U.S. - JerseyMilitary       0                 5       5  \n",
       "3                         NaN       0                14      20  \n",
       "4      Navy German - Military       0                28      28  "
      ]
     },
     "execution_count": 9,
     "metadata": {},
     "output_type": "execute_result"
    }
   ],
   "source": [
    "df.loc[:,\"Location\"]=df.loc[:,\"Location\"].str.replace(\"?\",'')\n",
    "df.head()"
   ]
  },
  {
   "cell_type": "code",
   "execution_count": 10,
   "id": "d2cd8d8d-51ba-421d-a202-e350ec396670",
   "metadata": {
    "tags": []
   },
   "outputs": [
    {
     "data": {
      "text/html": [
       "<div>\n",
       "<style scoped>\n",
       "    .dataframe tbody tr th:only-of-type {\n",
       "        vertical-align: middle;\n",
       "    }\n",
       "\n",
       "    .dataframe tbody tr th {\n",
       "        vertical-align: top;\n",
       "    }\n",
       "\n",
       "    .dataframe thead th {\n",
       "        text-align: right;\n",
       "    }\n",
       "</style>\n",
       "<table border=\"1\" class=\"dataframe\">\n",
       "  <thead>\n",
       "    <tr style=\"text-align: right;\">\n",
       "      <th></th>\n",
       "      <th>Year</th>\n",
       "      <th>Quarter</th>\n",
       "      <th>Month</th>\n",
       "      <th>Day</th>\n",
       "      <th>Country/Region</th>\n",
       "      <th>Aircraft Manufacturer</th>\n",
       "      <th>Aircraft</th>\n",
       "      <th>Location</th>\n",
       "      <th>Operator</th>\n",
       "      <th>Ground</th>\n",
       "      <th>Fatalities (air)</th>\n",
       "      <th>Aboard</th>\n",
       "    </tr>\n",
       "  </thead>\n",
       "  <tbody>\n",
       "    <tr>\n",
       "      <th>0</th>\n",
       "      <td>1908</td>\n",
       "      <td>Qtr 3</td>\n",
       "      <td>September</td>\n",
       "      <td>17</td>\n",
       "      <td>Virginia</td>\n",
       "      <td>Wright Flyer</td>\n",
       "      <td>Wright Flyer III</td>\n",
       "      <td>Fort Myer Virginia</td>\n",
       "      <td>Army U.S. - Military</td>\n",
       "      <td>0</td>\n",
       "      <td>1</td>\n",
       "      <td>2</td>\n",
       "    </tr>\n",
       "    <tr>\n",
       "      <th>1</th>\n",
       "      <td>1909</td>\n",
       "      <td>Qtr 3</td>\n",
       "      <td>September</td>\n",
       "      <td>7</td>\n",
       "      <td>France</td>\n",
       "      <td>Wright</td>\n",
       "      <td>Wright ByplaneSC1</td>\n",
       "      <td>Juvisy-sur-Orge France</td>\n",
       "      <td>None</td>\n",
       "      <td>0</td>\n",
       "      <td>1</td>\n",
       "      <td>1</td>\n",
       "    </tr>\n",
       "    <tr>\n",
       "      <th>2</th>\n",
       "      <td>1912</td>\n",
       "      <td>Qtr 3</td>\n",
       "      <td>July</td>\n",
       "      <td>12</td>\n",
       "      <td>New</td>\n",
       "      <td>Dirigible</td>\n",
       "      <td>Dirigible</td>\n",
       "      <td>Atlantic City New</td>\n",
       "      <td>Navy U.S. - JerseyMilitary</td>\n",
       "      <td>0</td>\n",
       "      <td>5</td>\n",
       "      <td>5</td>\n",
       "    </tr>\n",
       "    <tr>\n",
       "      <th>3</th>\n",
       "      <td>1913</td>\n",
       "      <td>Qtr 3</td>\n",
       "      <td>September</td>\n",
       "      <td>9</td>\n",
       "      <td>None</td>\n",
       "      <td>Zeppelin</td>\n",
       "      <td>Zeppelin L 1 (airship)</td>\n",
       "      <td>Over the North SeaMilitary - German Navy</td>\n",
       "      <td>None</td>\n",
       "      <td>0</td>\n",
       "      <td>14</td>\n",
       "      <td>20</td>\n",
       "    </tr>\n",
       "    <tr>\n",
       "      <th>4</th>\n",
       "      <td>1913</td>\n",
       "      <td>Qtr 4</td>\n",
       "      <td>October</td>\n",
       "      <td>17</td>\n",
       "      <td>Germany</td>\n",
       "      <td>Zeppelin</td>\n",
       "      <td>Zeppelin L 2 (airship)</td>\n",
       "      <td>Near Johannisthal Germany</td>\n",
       "      <td>Navy German - Military</td>\n",
       "      <td>0</td>\n",
       "      <td>28</td>\n",
       "      <td>28</td>\n",
       "    </tr>\n",
       "  </tbody>\n",
       "</table>\n",
       "</div>"
      ],
      "text/plain": [
       "   Year Quarter      Month  Day Country/Region Aircraft Manufacturer  \\\n",
       "0  1908   Qtr 3  September   17       Virginia          Wright Flyer   \n",
       "1  1909   Qtr 3  September    7         France                Wright   \n",
       "2  1912   Qtr 3       July   12            New             Dirigible   \n",
       "3  1913   Qtr 3  September    9           None              Zeppelin   \n",
       "4  1913   Qtr 4    October   17        Germany              Zeppelin   \n",
       "\n",
       "                 Aircraft                                  Location  \\\n",
       "0        Wright Flyer III                        Fort Myer Virginia   \n",
       "1       Wright ByplaneSC1                    Juvisy-sur-Orge France   \n",
       "2               Dirigible                         Atlantic City New   \n",
       "3  Zeppelin L 1 (airship)  Over the North SeaMilitary - German Navy   \n",
       "4  Zeppelin L 2 (airship)                 Near Johannisthal Germany   \n",
       "\n",
       "                     Operator  Ground  Fatalities (air)  Aboard  \n",
       "0        Army U.S. - Military       0                 1       2  \n",
       "1                        None       0                 1       1  \n",
       "2  Navy U.S. - JerseyMilitary       0                 5       5  \n",
       "3                        None       0                14      20  \n",
       "4      Navy German - Military       0                28      28  "
      ]
     },
     "execution_count": 10,
     "metadata": {},
     "output_type": "execute_result"
    }
   ],
   "source": [
    "df.loc[:,\"Operator\"]=df.loc[:,\"Operator\"].fillna(\"None\")\n",
    "df.head()"
   ]
  },
  {
   "cell_type": "code",
   "execution_count": 11,
   "id": "05c2c8da-eacb-43fe-b0c8-9d32a03c489d",
   "metadata": {
    "tags": []
   },
   "outputs": [
    {
     "data": {
      "text/plain": [
       "Year                     0\n",
       "Quarter                  0\n",
       "Month                    0\n",
       "Day                      0\n",
       "Country/Region           0\n",
       "Aircraft Manufacturer    0\n",
       "Aircraft                 0\n",
       "Location                 0\n",
       "Operator                 0\n",
       "Ground                   0\n",
       "Fatalities (air)         0\n",
       "Aboard                   0\n",
       "dtype: int64"
      ]
     },
     "execution_count": 11,
     "metadata": {},
     "output_type": "execute_result"
    }
   ],
   "source": [
    "df.isna().sum()"
   ]
  },
  {
   "cell_type": "markdown",
   "id": "78a6b0a1-065c-4a02-bbb6-f7d372b50ac1",
   "metadata": {},
   "source": [
    "### Research Questions"
   ]
  },
  {
   "cell_type": "markdown",
   "id": "0f2bdc45-e96a-4cbf-bbc9-2698576f44ba",
   "metadata": {},
   "source": [
    "##### 1. HOW MANY PEOPLE SURVIVED IN THE LAST 20 YEARS?\n",
    "##### 2. HOW MANY PEOPLE DIED IN THE LAST 20 YEARS?\n",
    "##### 3. WHICH COUNTRY/REGION HAS THE HIGHEST NUMBER OF AIRCRASHES?\n",
    "##### 4. WHERE ARE THE TOP 10 MOST COMMON LOCATION?\n",
    "##### 5. WHICH MONTH HAS THE HIGHEST NUMBER OF CRASHES?\n",
    "##### 6. WHO ARE THE TOP 10 OPERATORS?\n",
    "##### 7. WHO ARE THE TOP 10 AIRCRAFT MANUFACTURER?"
   ]
  },
  {
   "cell_type": "code",
   "execution_count": 14,
   "id": "81663da1-1493-4b64-ae07-ca77d17df3c3",
   "metadata": {
    "tags": []
   },
   "outputs": [
    {
     "data": {
      "text/plain": [
       "0         1\n",
       "1         0\n",
       "2         0\n",
       "3         6\n",
       "4         0\n",
       "       ... \n",
       "5030      1\n",
       "5031      3\n",
       "5032    380\n",
       "5033    228\n",
       "5034      0\n",
       "Length: 5035, dtype: int64"
      ]
     },
     "execution_count": 14,
     "metadata": {},
     "output_type": "execute_result"
    }
   ],
   "source": [
    "### HOW MANY PEOPLE SURVIVED IN THE LAST 20 YEARS?\n",
    "Survival = df[\"Aboard\"]- df[\"Fatalities (air)\"]\n",
    "Survival"
   ]
  },
  {
   "cell_type": "code",
   "execution_count": 15,
   "id": "2251f81d-47c1-48c4-a8c0-5953439b2e90",
   "metadata": {
    "tags": []
   },
   "outputs": [],
   "source": [
    "df.loc[:,\"Survival\"] = Survival"
   ]
  },
  {
   "cell_type": "code",
   "execution_count": 16,
   "id": "06ad5033-4650-41d7-8b6b-fd435e0b08b6",
   "metadata": {
    "tags": []
   },
   "outputs": [],
   "source": [
    "### HOW MANY PEOPLE SURVIVED IN THE LAST 20 YEARS?\n",
    "\n",
    "survived_cases = df.groupby(df[\"Year\"])[\"Survival\"].sum().reset_index()"
   ]
  },
  {
   "cell_type": "code",
   "execution_count": 17,
   "id": "7102df68-9dda-4465-8bc8-705e65ae2fb8",
   "metadata": {
    "tags": []
   },
   "outputs": [],
   "source": [
    "last_20 = survived_cases.sort_values(by=\"Year\",ascending=True).tail(20)"
   ]
  },
  {
   "cell_type": "code",
   "execution_count": 18,
   "id": "5d0caa6c-6569-4952-afa6-eb62f77cb012",
   "metadata": {
    "tags": []
   },
   "outputs": [
    {
     "data": {
      "image/png": "[encoded data removed]",
      "text/plain": [
       "<Figure size 1000x600 with 1 Axes>"
      ]
     },
     "metadata": {},
     "output_type": "display_data"
    }
   ],
   "source": [
    "\n",
    "plt.figure(figsize=(10,6))\n",
    "plt.bar(last_20[\"Year\"], last_20[\"Survival\"],\n",
    "         color =\"blue\")\n",
    "plt.xticks(np.arange(2005,2024), rotation=45)\n",
    "plt.xlabel(\"Year\")\n",
    "plt.ylabel(\"Survival\")\n",
    "plt.title(\"SUM OF SURVIVAL VS YEAR\")\n",
    "plt.gca().xaxis.set_ticklabels([\n",
    "    str(int(x)) for x in \n",
    "    plt.gca().xaxis.get_ticklocs()])\n",
    "\n",
    "plt.show()"
   ]
  },
  {
   "cell_type": "code",
   "execution_count": 19,
   "id": "08597a9d-387d-4deb-8abe-0ea2f2744472",
   "metadata": {
    "tags": []
   },
   "outputs": [],
   "source": [
    "### 2. HOW MANY PEOPLE DIED IN THE LAST 20 YEARS?\n",
    "\n",
    "dead_cases = df.groupby(df[\"Year\"])[\"Fatalities (air)\"].sum().reset_index()"
   ]
  },
  {
   "cell_type": "code",
   "execution_count": 20,
   "id": "ae6cbf2e-93ce-4acd-ab41-01d094e30da5",
   "metadata": {
    "tags": []
   },
   "outputs": [],
   "source": [
    "last_20_dead = dead_cases.sort_values(by=\"Year\",ascending=True).tail(20)"
   ]
  },
  {
   "cell_type": "code",
   "execution_count": 21,
   "id": "b8b9fe48-fddd-43ae-9b1f-36ae63b801e5",
   "metadata": {
    "tags": []
   },
   "outputs": [
    {
     "data": {
      "image/png": "[encoded data removed]",
      "text/plain": [
       "<Figure size 1000x500 with 1 Axes>"
      ]
     },
     "metadata": {},
     "output_type": "display_data"
    }
   ],
   "source": [
    "plt.figure(figsize=(10,5))\n",
    "plt.bar(last_20_dead[\"Year\"], last_20_dead[\"Fatalities (air)\"],\n",
    "         color =\"red\")\n",
    "plt.xticks(np.arange(2005,2024),rotation=45)\n",
    "plt.xlabel(\"Year\")\n",
    "plt.title(\"SUM  OF FATALITIES VS YEAR\")\n",
    "plt.gca().xaxis.set_ticklabels([\n",
    "    str(int(x)) for x in \n",
    "    plt.gca().xaxis.get_ticklocs()])\n",
    "\n",
    "plt.show()"
   ]
  },
  {
   "cell_type": "code",
   "execution_count": 25,
   "id": "adb54b8a-0ad1-4736-9a8e-033b7782c7c2",
   "metadata": {},
   "outputs": [
    {
     "data": {
      "application/vnd.plotly.v1+json": {
       "config": {
        "plotlyServerURL": "https://plot.ly"
       },
       "data": [
        {
         "coloraxis": "coloraxis",
         "geo": "geo",
         "hovertemplate": "Country/Region=%{location}<br>Count=%{z}<extra></extra>",
         "locationmode": "country names",
         "locations": [
          "Russia",
          "None",
          "Brazil",
          "Colombia",
          "New",
          "California",
          "France",
          "Alaska",
          "India",
          "South"
         ],
         "name": "",
         "type": "choropleth",
         "z": [
          249,
          237,
          162,
          146,
          142,
          113,
          112,
          101,
          96,
          92
         ]
        }
       ],
       "layout": {
        "autosize": true,
        "coloraxis": {
         "colorbar": {
          "title": {
           "text": "Count"
          }
         },
         "colorscale": [
          [
           0,
           "#440154"
          ],
          [
           0.1111111111111111,
           "#482878"
          ],
          [
           0.2222222222222222,
           "#3e4989"
          ],
          [
           0.3333333333333333,
           "#31688e"
          ],
          [
           0.4444444444444444,
           "#26828e"
          ],
          [
           0.5555555555555556,
           "#1f9e89"
          ],
          [
           0.6666666666666666,
           "#35b779"
          ],
          [
           0.7777777777777778,
           "#6ece58"
          ],
          [
           0.8888888888888888,
           "#b5de2b"
          ],
          [
           1,
           "#fde725"
          ]
         ]
        },
        "geo": {
         "center": {},
         "domain": {
          "x": [
           0,
           1
          ],
          "y": [
           0,
           1
          ]
         }
        },
        "legend": {
         "tracegroupgap": 0
        },
        "template": {
         "data": {
          "bar": [
           {
            "error_x": {
             "color": "#2a3f5f"
            },
            "error_y": {
             "color": "#2a3f5f"
            },
            "marker": {
             "line": {
              "color": "#E5ECF6",
              "width": 0.5
             },
             "pattern": {
              "fillmode": "overlay",
              "size": 10,
              "solidity": 0.2
             }
            },
            "type": "bar"
           }
          ],
          "barpolar": [
           {
            "marker": {
             "line": {
              "color": "#E5ECF6",
              "width": 0.5
             },
             "pattern": {
              "fillmode": "overlay",
              "size": 10,
              "solidity": 0.2
             }
            },
            "type": "barpolar"
           }
          ],
          "carpet": [
           {
            "aaxis": {
             "endlinecolor": "#2a3f5f",
             "gridcolor": "white",
             "linecolor": "white",
             "minorgridcolor": "white",
             "startlinecolor": "#2a3f5f"
            },
            "baxis": {
             "endlinecolor": "#2a3f5f",
             "gridcolor": "white",
             "linecolor": "white",
             "minorgridcolor": "white",
             "startlinecolor": "#2a3f5f"
            },
            "type": "carpet"
           }
          ],
          "choropleth": [
           {
            "colorbar": {
             "outlinewidth": 0,
             "ticks": ""
            },
            "type": "choropleth"
           }
          ],
          "contour": [
           {
            "colorbar": {
             "outlinewidth": 0,
             "ticks": ""
            },
            "colorscale": [
             [
              0,
              "#0d0887"
             ],
             [
              0.1111111111111111,
              "#46039f"
             ],
             [
              0.2222222222222222,
              "#7201a8"
             ],
             [
              0.3333333333333333,
              "#9c179e"
             ],
             [
              0.4444444444444444,
              "#bd3786"
             ],
             [
              0.5555555555555556,
              "#d8576b"
             ],
             [
              0.6666666666666666,
              "#ed7953"
             ],
             [
              0.7777777777777778,
              "#fb9f3a"
             ],
             [
              0.8888888888888888,
              "#fdca26"
             ],
             [
              1,
              "#f0f921"
             ]
            ],
            "type": "contour"
           }
          ],
          "contourcarpet": [
           {
            "colorbar": {
             "outlinewidth": 0,
             "ticks": ""
            },
            "type": "contourcarpet"
           }
          ],
          "heatmap": [
           {
            "colorbar": {
             "outlinewidth": 0,
             "ticks": ""
            },
            "colorscale": [
             [
              0,
              "#0d0887"
             ],
             [
              0.1111111111111111,
              "#46039f"
             ],
             [
              0.2222222222222222,
              "#7201a8"
             ],
             [
              0.3333333333333333,
              "#9c179e"
             ],
             [
              0.4444444444444444,
              "#bd3786"
             ],
             [
              0.5555555555555556,
              "#d8576b"
             ],
             [
              0.6666666666666666,
              "#ed7953"
             ],
             [
              0.7777777777777778,
              "#fb9f3a"
             ],
             [
              0.8888888888888888,
              "#fdca26"
             ],
             [
              1,
              "#f0f921"
             ]
            ],
            "type": "heatmap"
           }
          ],
          "heatmapgl": [
           {
            "colorbar": {
             "outlinewidth": 0,
             "ticks": ""
            },
            "colorscale": [
             [
              0,
              "#0d0887"
             ],
             [
              0.1111111111111111,
              "#46039f"
             ],
             [
              0.2222222222222222,
              "#7201a8"
             ],
             [
              0.3333333333333333,
              "#9c179e"
             ],
             [
              0.4444444444444444,
              "#bd3786"
             ],
             [
              0.5555555555555556,
              "#d8576b"
             ],
             [
              0.6666666666666666,
              "#ed7953"
             ],
             [
              0.7777777777777778,
              "#fb9f3a"
             ],
             [
              0.8888888888888888,
              "#fdca26"
             ],
             [
              1,
              "#f0f921"
             ]
            ],
            "type": "heatmapgl"
           }
          ],
          "histogram": [
           {
            "marker": {
             "pattern": {
              "fillmode": "overlay",
              "size": 10,
              "solidity": 0.2
             }
            },
            "type": "histogram"
           }
          ],
          "histogram2d": [
           {
            "colorbar": {
             "outlinewidth": 0,
             "ticks": ""
            },
            "colorscale": [
             [
              0,
              "#0d0887"
             ],
             [
              0.1111111111111111,
              "#46039f"
             ],
             [
              0.2222222222222222,
              "#7201a8"
             ],
             [
              0.3333333333333333,
              "#9c179e"
             ],
             [
              0.4444444444444444,
              "#bd3786"
             ],
             [
              0.5555555555555556,
              "#d8576b"
             ],
             [
              0.6666666666666666,
              "#ed7953"
             ],
             [
              0.7777777777777778,
              "#fb9f3a"
             ],
             [
              0.8888888888888888,
              "#fdca26"
             ],
             [
              1,
              "#f0f921"
             ]
            ],
            "type": "histogram2d"
           }
          ],
          "histogram2dcontour": [
           {
            "colorbar": {
             "outlinewidth": 0,
             "ticks": ""
            },
            "colorscale": [
             [
              0,
              "#0d0887"
             ],
             [
              0.1111111111111111,
              "#46039f"
             ],
             [
              0.2222222222222222,
              "#7201a8"
             ],
             [
              0.3333333333333333,
              "#9c179e"
             ],
             [
              0.4444444444444444,
              "#bd3786"
             ],
             [
              0.5555555555555556,
              "#d8576b"
             ],
             [
              0.6666666666666666,
              "#ed7953"
             ],
             [
              0.7777777777777778,
              "#fb9f3a"
             ],
             [
              0.8888888888888888,
              "#fdca26"
             ],
             [
              1,
              "#f0f921"
             ]
            ],
            "type": "histogram2dcontour"
           }
          ],
          "mesh3d": [
           {
            "colorbar": {
             "outlinewidth": 0,
             "ticks": ""
            },
            "type": "mesh3d"
           }
          ],
          "parcoords": [
           {
            "line": {
             "colorbar": {
              "outlinewidth": 0,
              "ticks": ""
             }
            },
            "type": "parcoords"
           }
          ],
          "pie": [
           {
            "automargin": true,
            "type": "pie"
           }
          ],
          "scatter": [
           {
            "fillpattern": {
             "fillmode": "overlay",
             "size": 10,
             "solidity": 0.2
            },
            "type": "scatter"
           }
          ],
          "scatter3d": [
           {
            "line": {
             "colorbar": {
              "outlinewidth": 0,
              "ticks": ""
             }
            },
            "marker": {
             "colorbar": {
              "outlinewidth": 0,
              "ticks": ""
             }
            },
            "type": "scatter3d"
           }
          ],
          "scattercarpet": [
           {
            "marker": {
             "colorbar": {
              "outlinewidth": 0,
              "ticks": ""
             }
            },
            "type": "scattercarpet"
           }
          ],
          "scattergeo": [
           {
            "marker": {
             "colorbar": {
              "outlinewidth": 0,
              "ticks": ""
             }
            },
            "type": "scattergeo"
           }
          ],
          "scattergl": [
           {
            "marker": {
             "colorbar": {
              "outlinewidth": 0,
              "ticks": ""
             }
            },
            "type": "scattergl"
           }
          ],
          "scattermapbox": [
           {
            "marker": {
             "colorbar": {
              "outlinewidth": 0,
              "ticks": ""
             }
            },
            "type": "scattermapbox"
           }
          ],
          "scatterpolar": [
           {
            "marker": {
             "colorbar": {
              "outlinewidth": 0,
              "ticks": ""
             }
            },
            "type": "scatterpolar"
           }
          ],
          "scatterpolargl": [
           {
            "marker": {
             "colorbar": {
              "outlinewidth": 0,
              "ticks": ""
             }
            },
            "type": "scatterpolargl"
           }
          ],
          "scatterternary": [
           {
            "marker": {
             "colorbar": {
              "outlinewidth": 0,
              "ticks": ""
             }
            },
            "type": "scatterternary"
           }
          ],
          "surface": [
           {
            "colorbar": {
             "outlinewidth": 0,
             "ticks": ""
            },
            "colorscale": [
             [
              0,
              "#0d0887"
             ],
             [
              0.1111111111111111,
              "#46039f"
             ],
             [
              0.2222222222222222,
              "#7201a8"
             ],
             [
              0.3333333333333333,
              "#9c179e"
             ],
             [
              0.4444444444444444,
              "#bd3786"
             ],
             [
              0.5555555555555556,
              "#d8576b"
             ],
             [
              0.6666666666666666,
              "#ed7953"
             ],
             [
              0.7777777777777778,
              "#fb9f3a"
             ],
             [
              0.8888888888888888,
              "#fdca26"
             ],
             [
              1,
              "#f0f921"
             ]
            ],
            "type": "surface"
           }
          ],
          "table": [
           {
            "cells": {
             "fill": {
              "color": "#EBF0F8"
             },
             "line": {
              "color": "white"
             }
            },
            "header": {
             "fill": {
              "color": "#C8D4E3"
             },
             "line": {
              "color": "white"
             }
            },
            "type": "table"
           }
          ]
         },
         "layout": {
          "annotationdefaults": {
           "arrowcolor": "#2a3f5f",
           "arrowhead": 0,
           "arrowwidth": 1
          },
          "autotypenumbers": "strict",
          "coloraxis": {
           "colorbar": {
            "outlinewidth": 0,
            "ticks": ""
           }
          },
          "colorscale": {
           "diverging": [
            [
             0,
             "#8e0152"
            ],
            [
             0.1,
             "#c51b7d"
            ],
            [
             0.2,
             "#de77ae"
            ],
            [
             0.3,
             "#f1b6da"
            ],
            [
             0.4,
             "#fde0ef"
            ],
            [
             0.5,
             "#f7f7f7"
            ],
            [
             0.6,
             "#e6f5d0"
            ],
            [
             0.7,
             "#b8e186"
            ],
            [
             0.8,
             "#7fbc41"
            ],
            [
             0.9,
             "#4d9221"
            ],
            [
             1,
             "#276419"
            ]
           ],
           "sequential": [
            [
             0,
             "#0d0887"
            ],
            [
             0.1111111111111111,
             "#46039f"
            ],
            [
             0.2222222222222222,
             "#7201a8"
            ],
            [
             0.3333333333333333,
             "#9c179e"
            ],
            [
             0.4444444444444444,
             "#bd3786"
            ],
            [
             0.5555555555555556,
             "#d8576b"
            ],
            [
             0.6666666666666666,
             "#ed7953"
            ],
            [
             0.7777777777777778,
             "#fb9f3a"
            ],
            [
             0.8888888888888888,
             "#fdca26"
            ],
            [
             1,
             "#f0f921"
            ]
           ],
           "sequentialminus": [
            [
             0,
             "#0d0887"
            ],
            [
             0.1111111111111111,
             "#46039f"
            ],
            [
             0.2222222222222222,
             "#7201a8"
            ],
            [
             0.3333333333333333,
             "#9c179e"
            ],
            [
             0.4444444444444444,
             "#bd3786"
            ],
            [
             0.5555555555555556,
             "#d8576b"
            ],
            [
             0.6666666666666666,
             "#ed7953"
            ],
            [
             0.7777777777777778,
             "#fb9f3a"
            ],
            [
             0.8888888888888888,
             "#fdca26"
            ],
            [
             1,
             "#f0f921"
            ]
           ]
          },
          "colorway": [
           "#636efa",
           "#EF553B",
           "#00cc96",
           "#ab63fa",
           "#FFA15A",
           "#19d3f3",
           "#FF6692",
           "#B6E880",
           "#FF97FF",
           "#FECB52"
          ],
          "font": {
           "color": "#2a3f5f"
          },
          "geo": {
           "bgcolor": "white",
           "lakecolor": "white",
           "landcolor": "#E5ECF6",
           "showlakes": true,
           "showland": true,
           "subunitcolor": "white"
          },
          "hoverlabel": {
           "align": "left"
          },
          "hovermode": "closest",
          "mapbox": {
           "style": "light"
          },
          "paper_bgcolor": "white",
          "plot_bgcolor": "#E5ECF6",
          "polar": {
           "angularaxis": {
            "gridcolor": "white",
            "linecolor": "white",
            "ticks": ""
           },
           "bgcolor": "#E5ECF6",
           "radialaxis": {
            "gridcolor": "white",
            "linecolor": "white",
            "ticks": ""
           }
          },
          "scene": {
           "xaxis": {
            "backgroundcolor": "#E5ECF6",
            "gridcolor": "white",
            "gridwidth": 2,
            "linecolor": "white",
            "showbackground": true,
            "ticks": "",
            "zerolinecolor": "white"
           },
           "yaxis": {
            "backgroundcolor": "#E5ECF6",
            "gridcolor": "white",
            "gridwidth": 2,
            "linecolor": "white",
            "showbackground": true,
            "ticks": "",
            "zerolinecolor": "white"
           },
           "zaxis": {
            "backgroundcolor": "#E5ECF6",
            "gridcolor": "white",
            "gridwidth": 2,
            "linecolor": "white",
            "showbackground": true,
            "ticks": "",
            "zerolinecolor": "white"
           }
          },
          "shapedefaults": {
           "line": {
            "color": "#2a3f5f"
           }
          },
          "ternary": {
           "aaxis": {
            "gridcolor": "white",
            "linecolor": "white",
            "ticks": ""
           },
           "baxis": {
            "gridcolor": "white",
            "linecolor": "white",
            "ticks": ""
           },
           "bgcolor": "#E5ECF6",
           "caxis": {
            "gridcolor": "white",
            "linecolor": "white",
            "ticks": ""
           }
          },
          "title": {
           "x": 0.05
          },
          "xaxis": {
           "automargin": true,
           "gridcolor": "white",
           "linecolor": "white",
           "ticks": "",
           "title": {
            "standoff": 15
           },
           "zerolinecolor": "white",
           "zerolinewidth": 2
          },
          "yaxis": {
           "automargin": true,
           "gridcolor": "white",
           "linecolor": "white",
           "ticks": "",
           "title": {
            "standoff": 15
           },
           "zerolinecolor": "white",
           "zerolinewidth": 2
          }
         }
        },
        "title": {
         "text": "COUNTRY WITH THE HIGHEST NUMBER OF CRASHES"
        }
       }
      },
      "image/png": "[encoded data removed]",
      "text/html": [
       "<div>                            <div id=\"e3ddbeaa-424d-4c10-9022-9e8d4eb50e31\" class=\"plotly-graph-div\" style=\"height:525px; width:100%;\"></div>            <script type=\"text/javascript\">                require([\"plotly\"], function(Plotly) {                    window.PLOTLYENV=window.PLOTLYENV || {};                                    if (document.getElementById(\"e3ddbeaa-424d-4c10-9022-9e8d4eb50e31\")) {                    Plotly.newPlot(                        \"e3ddbeaa-424d-4c10-9022-9e8d4eb50e31\",                        [{\"coloraxis\":\"coloraxis\",\"geo\":\"geo\",\"hovertemplate\":\"Country/Region=%{location}<br>Count=%{z}<extra></extra>\",\"locationmode\":\"country names\",\"locations\":[\"Russia\",\"None\",\"Brazil\",\"Colombia\",\"New\",\"California\",\"France\",\"Alaska\",\"India\",\"South\"],\"name\":\"\",\"z\":[249,237,162,146,142,113,112,101,96,92],\"type\":\"choropleth\"}],                        {\"template\":{\"data\":{\"histogram2dcontour\":[{\"type\":\"histogram2dcontour\",\"colorbar\":{\"outlinewidth\":0,\"ticks\":\"\"},\"colorscale\":[[0.0,\"#0d0887\"],[0.1111111111111111,\"#46039f\"],[0.2222222222222222,\"#7201a8\"],[0.3333333333333333,\"#9c179e\"],[0.4444444444444444,\"#bd3786\"],[0.5555555555555556,\"#d8576b\"],[0.6666666666666666,\"#ed7953\"],[0.7777777777777778,\"#fb9f3a\"],[0.8888888888888888,\"#fdca26\"],[1.0,\"#f0f921\"]]}],\"choropleth\":[{\"type\":\"choropleth\",\"colorbar\":{\"outlinewidth\":0,\"ticks\":\"\"}}],\"histogram2d\":[{\"type\":\"histogram2d\",\"colorbar\":{\"outlinewidth\":0,\"ticks\":\"\"},\"colorscale\":[[0.0,\"#0d0887\"],[0.1111111111111111,\"#46039f\"],[0.2222222222222222,\"#7201a8\"],[0.3333333333333333,\"#9c179e\"],[0.4444444444444444,\"#bd3786\"],[0.5555555555555556,\"#d8576b\"],[0.6666666666666666,\"#ed7953\"],[0.7777777777777778,\"#fb9f3a\"],[0.8888888888888888,\"#fdca26\"],[1.0,\"#f0f921\"]]}],\"heatmap\":[{\"type\":\"heatmap\",\"colorbar\":{\"outlinewidth\":0,\"ticks\":\"\"},\"colorscale\":[[0.0,\"#0d0887\"],[0.1111111111111111,\"#46039f\"],[0.2222222222222222,\"#7201a8\"],[0.3333333333333333,\"#9c179e\"],[0.4444444444444444,\"#bd3786\"],[0.5555555555555556,\"#d8576b\"],[0.6666666666666666,\"#ed7953\"],[0.7777777777777778,\"#fb9f3a\"],[0.8888888888888888,\"#fdca26\"],[1.0,\"#f0f921\"]]}],\"heatmapgl\":[{\"type\":\"heatmapgl\",\"colorbar\":{\"outlinewidth\":0,\"ticks\":\"\"},\"colorscale\":[[0.0,\"#0d0887\"],[0.1111111111111111,\"#46039f\"],[0.2222222222222222,\"#7201a8\"],[0.3333333333333333,\"#9c179e\"],[0.4444444444444444,\"#bd3786\"],[0.5555555555555556,\"#d8576b\"],[0.6666666666666666,\"#ed7953\"],[0.7777777777777778,\"#fb9f3a\"],[0.8888888888888888,\"#fdca26\"],[1.0,\"#f0f921\"]]}],\"contourcarpet\":[{\"type\":\"contourcarpet\",\"colorbar\":{\"outlinewidth\":0,\"ticks\":\"\"}}],\"contour\":[{\"type\":\"contour\",\"colorbar\":{\"outlinewidth\":0,\"ticks\":\"\"},\"colorscale\":[[0.0,\"#0d0887\"],[0.1111111111111111,\"#46039f\"],[0.2222222222222222,\"#7201a8\"],[0.3333333333333333,\"#9c179e\"],[0.4444444444444444,\"#bd3786\"],[0.5555555555555556,\"#d8576b\"],[0.6666666666666666,\"#ed7953\"],[0.7777777777777778,\"#fb9f3a\"],[0.8888888888888888,\"#fdca26\"],[1.0,\"#f0f921\"]]}],\"surface\":[{\"type\":\"surface\",\"colorbar\":{\"outlinewidth\":0,\"ticks\":\"\"},\"colorscale\":[[0.0,\"#0d0887\"],[0.1111111111111111,\"#46039f\"],[0.2222222222222222,\"#7201a8\"],[0.3333333333333333,\"#9c179e\"],[0.4444444444444444,\"#bd3786\"],[0.5555555555555556,\"#d8576b\"],[0.6666666666666666,\"#ed7953\"],[0.7777777777777778,\"#fb9f3a\"],[0.8888888888888888,\"#fdca26\"],[1.0,\"#f0f921\"]]}],\"mesh3d\":[{\"type\":\"mesh3d\",\"colorbar\":{\"outlinewidth\":0,\"ticks\":\"\"}}],\"scatter\":[{\"fillpattern\":{\"fillmode\":\"overlay\",\"size\":10,\"solidity\":0.2},\"type\":\"scatter\"}],\"parcoords\":[{\"type\":\"parcoords\",\"line\":{\"colorbar\":{\"outlinewidth\":0,\"ticks\":\"\"}}}],\"scatterpolargl\":[{\"type\":\"scatterpolargl\",\"marker\":{\"colorbar\":{\"outlinewidth\":0,\"ticks\":\"\"}}}],\"bar\":[{\"error_x\":{\"color\":\"#2a3f5f\"},\"error_y\":{\"color\":\"#2a3f5f\"},\"marker\":{\"line\":{\"color\":\"#E5ECF6\",\"width\":0.5},\"pattern\":{\"fillmode\":\"overlay\",\"size\":10,\"solidity\":0.2}},\"type\":\"bar\"}],\"scattergeo\":[{\"type\":\"scattergeo\",\"marker\":{\"colorbar\":{\"outlinewidth\":0,\"ticks\":\"\"}}}],\"scatterpolar\":[{\"type\":\"scatterpolar\",\"marker\":{\"colorbar\":{\"outlinewidth\":0,\"ticks\":\"\"}}}],\"histogram\":[{\"marker\":{\"pattern\":{\"fillmode\":\"overlay\",\"size\":10,\"solidity\":0.2}},\"type\":\"histogram\"}],\"scattergl\":[{\"type\":\"scattergl\",\"marker\":{\"colorbar\":{\"outlinewidth\":0,\"ticks\":\"\"}}}],\"scatter3d\":[{\"type\":\"scatter3d\",\"line\":{\"colorbar\":{\"outlinewidth\":0,\"ticks\":\"\"}},\"marker\":{\"colorbar\":{\"outlinewidth\":0,\"ticks\":\"\"}}}],\"scattermapbox\":[{\"type\":\"scattermapbox\",\"marker\":{\"colorbar\":{\"outlinewidth\":0,\"ticks\":\"\"}}}],\"scatterternary\":[{\"type\":\"scatterternary\",\"marker\":{\"colorbar\":{\"outlinewidth\":0,\"ticks\":\"\"}}}],\"scattercarpet\":[{\"type\":\"scattercarpet\",\"marker\":{\"colorbar\":{\"outlinewidth\":0,\"ticks\":\"\"}}}],\"carpet\":[{\"aaxis\":{\"endlinecolor\":\"#2a3f5f\",\"gridcolor\":\"white\",\"linecolor\":\"white\",\"minorgridcolor\":\"white\",\"startlinecolor\":\"#2a3f5f\"},\"baxis\":{\"endlinecolor\":\"#2a3f5f\",\"gridcolor\":\"white\",\"linecolor\":\"white\",\"minorgridcolor\":\"white\",\"startlinecolor\":\"#2a3f5f\"},\"type\":\"carpet\"}],\"table\":[{\"cells\":{\"fill\":{\"color\":\"#EBF0F8\"},\"line\":{\"color\":\"white\"}},\"header\":{\"fill\":{\"color\":\"#C8D4E3\"},\"line\":{\"color\":\"white\"}},\"type\":\"table\"}],\"barpolar\":[{\"marker\":{\"line\":{\"color\":\"#E5ECF6\",\"width\":0.5},\"pattern\":{\"fillmode\":\"overlay\",\"size\":10,\"solidity\":0.2}},\"type\":\"barpolar\"}],\"pie\":[{\"automargin\":true,\"type\":\"pie\"}]},\"layout\":{\"autotypenumbers\":\"strict\",\"colorway\":[\"#636efa\",\"#EF553B\",\"#00cc96\",\"#ab63fa\",\"#FFA15A\",\"#19d3f3\",\"#FF6692\",\"#B6E880\",\"#FF97FF\",\"#FECB52\"],\"font\":{\"color\":\"#2a3f5f\"},\"hovermode\":\"closest\",\"hoverlabel\":{\"align\":\"left\"},\"paper_bgcolor\":\"white\",\"plot_bgcolor\":\"#E5ECF6\",\"polar\":{\"bgcolor\":\"#E5ECF6\",\"angularaxis\":{\"gridcolor\":\"white\",\"linecolor\":\"white\",\"ticks\":\"\"},\"radialaxis\":{\"gridcolor\":\"white\",\"linecolor\":\"white\",\"ticks\":\"\"}},\"ternary\":{\"bgcolor\":\"#E5ECF6\",\"aaxis\":{\"gridcolor\":\"white\",\"linecolor\":\"white\",\"ticks\":\"\"},\"baxis\":{\"gridcolor\":\"white\",\"linecolor\":\"white\",\"ticks\":\"\"},\"caxis\":{\"gridcolor\":\"white\",\"linecolor\":\"white\",\"ticks\":\"\"}},\"coloraxis\":{\"colorbar\":{\"outlinewidth\":0,\"ticks\":\"\"}},\"colorscale\":{\"sequential\":[[0.0,\"#0d0887\"],[0.1111111111111111,\"#46039f\"],[0.2222222222222222,\"#7201a8\"],[0.3333333333333333,\"#9c179e\"],[0.4444444444444444,\"#bd3786\"],[0.5555555555555556,\"#d8576b\"],[0.6666666666666666,\"#ed7953\"],[0.7777777777777778,\"#fb9f3a\"],[0.8888888888888888,\"#fdca26\"],[1.0,\"#f0f921\"]],\"sequentialminus\":[[0.0,\"#0d0887\"],[0.1111111111111111,\"#46039f\"],[0.2222222222222222,\"#7201a8\"],[0.3333333333333333,\"#9c179e\"],[0.4444444444444444,\"#bd3786\"],[0.5555555555555556,\"#d8576b\"],[0.6666666666666666,\"#ed7953\"],[0.7777777777777778,\"#fb9f3a\"],[0.8888888888888888,\"#fdca26\"],[1.0,\"#f0f921\"]],\"diverging\":[[0,\"#8e0152\"],[0.1,\"#c51b7d\"],[0.2,\"#de77ae\"],[0.3,\"#f1b6da\"],[0.4,\"#fde0ef\"],[0.5,\"#f7f7f7\"],[0.6,\"#e6f5d0\"],[0.7,\"#b8e186\"],[0.8,\"#7fbc41\"],[0.9,\"#4d9221\"],[1,\"#276419\"]]},\"xaxis\":{\"gridcolor\":\"white\",\"linecolor\":\"white\",\"ticks\":\"\",\"title\":{\"standoff\":15},\"zerolinecolor\":\"white\",\"automargin\":true,\"zerolinewidth\":2},\"yaxis\":{\"gridcolor\":\"white\",\"linecolor\":\"white\",\"ticks\":\"\",\"title\":{\"standoff\":15},\"zerolinecolor\":\"white\",\"automargin\":true,\"zerolinewidth\":2},\"scene\":{\"xaxis\":{\"backgroundcolor\":\"#E5ECF6\",\"gridcolor\":\"white\",\"linecolor\":\"white\",\"showbackground\":true,\"ticks\":\"\",\"zerolinecolor\":\"white\",\"gridwidth\":2},\"yaxis\":{\"backgroundcolor\":\"#E5ECF6\",\"gridcolor\":\"white\",\"linecolor\":\"white\",\"showbackground\":true,\"ticks\":\"\",\"zerolinecolor\":\"white\",\"gridwidth\":2},\"zaxis\":{\"backgroundcolor\":\"#E5ECF6\",\"gridcolor\":\"white\",\"linecolor\":\"white\",\"showbackground\":true,\"ticks\":\"\",\"zerolinecolor\":\"white\",\"gridwidth\":2}},\"shapedefaults\":{\"line\":{\"color\":\"#2a3f5f\"}},\"annotationdefaults\":{\"arrowcolor\":\"#2a3f5f\",\"arrowhead\":0,\"arrowwidth\":1},\"geo\":{\"bgcolor\":\"white\",\"landcolor\":\"#E5ECF6\",\"subunitcolor\":\"white\",\"showland\":true,\"showlakes\":true,\"lakecolor\":\"white\"},\"title\":{\"x\":0.05},\"mapbox\":{\"style\":\"light\"}}},\"geo\":{\"domain\":{\"x\":[0.0,1.0],\"y\":[0.0,1.0]},\"center\":{}},\"coloraxis\":{\"colorbar\":{\"title\":{\"text\":\"Count\"}},\"colorscale\":[[0.0,\"#440154\"],[0.1111111111111111,\"#482878\"],[0.2222222222222222,\"#3e4989\"],[0.3333333333333333,\"#31688e\"],[0.4444444444444444,\"#26828e\"],[0.5555555555555556,\"#1f9e89\"],[0.6666666666666666,\"#35b779\"],[0.7777777777777778,\"#6ece58\"],[0.8888888888888888,\"#b5de2b\"],[1.0,\"#fde725\"]]},\"legend\":{\"tracegroupgap\":0},\"title\":{\"text\":\"COUNTRY WITH THE HIGHEST NUMBER OF CRASHES\"}},                        {\"responsive\": true}                    ).then(function(){\n",
       "                            \n",
       "var gd = document.getElementById('e3ddbeaa-424d-4c10-9022-9e8d4eb50e31');\n",
       "var x = new MutationObserver(function (mutations, observer) {{\n",
       "        var display = window.getComputedStyle(gd).display;\n",
       "        if (!display || display === 'none') {{\n",
       "            console.log([gd, 'removed!']);\n",
       "            Plotly.purge(gd);\n",
       "            observer.disconnect();\n",
       "        }}\n",
       "}});\n",
       "\n",
       "// Listen for the removal of the full notebook cells\n",
       "var notebookContainer = gd.closest('#notebook-container');\n",
       "if (notebookContainer) {{\n",
       "    x.observe(notebookContainer, {childList: true});\n",
       "}}\n",
       "\n",
       "// Listen for the clearing of the current output cell\n",
       "var outputEl = gd.closest('.output');\n",
       "if (outputEl) {{\n",
       "    x.observe(outputEl, {childList: true});\n",
       "}}\n",
       "\n",
       "                        })                };                });            </script>        </div>"
      ]
     },
     "metadata": {},
     "output_type": "display_data"
    }
   ],
   "source": [
    "### 3. WHICH COUNTRY/Region HAS THE HIGHEST NUMBER OF AIRCRASHES?\n",
    "\n",
    "country_counts= df[\"Country/Region\"].value_counts().reset_index().head(10)\n",
    "country_counts.columns = [\"Country/Region\", \"Count\"]\n",
    "\n",
    "fig= px.choropleth(country_counts,locations=\"Country/Region\",\n",
    "                   locationmode=\"country names\",\n",
    "                   color=\"Count\",\n",
    "                   color_continuous_scale=\"Viridis\",\n",
    "                   title= \"COUNTRY WITH THE HIGHEST NUMBER OF CRASHES\")\n",
    "fig.show()"
   ]
  },
  {
   "cell_type": "code",
   "execution_count": 23,
   "id": "37a27bfb-c2d9-4686-b5da-ccfd5cd3cf05",
   "metadata": {},
   "outputs": [
    {
     "data": {
      "image/png": "[encoded data removed]",
      "text/plain": [
       "<Figure size 640x480 with 1 Axes>"
      ]
     },
     "metadata": {},
     "output_type": "display_data"
    }
   ],
   "source": [
    "### 4. WHERE ARE THE TOP 10 MOST COMMON LOCATION?\n",
    "\n",
    "top_10 = df.Location.value_counts().head(10)\n",
    "top_10.plot(kind = \"bar\")\n",
    "plt.xticks(rotation=45)\n",
    "plt.title(\"TOP 10 LOCATIONS\")\n",
    "plt.show()"
   ]
  },
  {
   "cell_type": "code",
   "execution_count": 23,
   "id": "496df41d-96d0-459a-a46c-5020d5f51253",
   "metadata": {
    "tags": []
   },
   "outputs": [
    {
     "data": {
      "image/png": "[encoded data removed]",
      "text/plain": [
       "<Figure size 640x480 with 1 Axes>"
      ]
     },
     "metadata": {},
     "output_type": "display_data"
    }
   ],
   "source": [
    "##### 5. WHICH MONTH HAS THE HIGHEST NUMBER OF CRASHES?\n",
    "top_10 = df.Location.value_counts().head(10)\n",
    "top_10.plot(kind = \"bar\")\n",
    "plt.xticks(rotation=45)\n",
    "plt.xlabel(\"Month\")\n",
    "plt.title(\"MONTH WITH THE HIGHEST NUMBER OF CRASHES\")\n",
    "\n",
    "\n",
    "plt.show()"
   ]
  },
  {
   "cell_type": "code",
   "execution_count": 24,
   "id": "93fb1469-cf6c-4335-a56c-cb3707fe4307",
   "metadata": {
    "tags": []
   },
   "outputs": [
    {
     "data": {
      "image/png": "[encoded data removed]",
      "text/plain": [
       "<Figure size 640x480 with 1 Axes>"
      ]
     },
     "metadata": {},
     "output_type": "display_data"
    }
   ],
   "source": [
    "### 6. WHO ARE THE TOP 10 OPERATORS?\n",
    "\n",
    "\n",
    "top_10 = df.Operator.value_counts().head(10)\n",
    "top_10.plot(kind = \"bar\")\n",
    "plt.xticks(rotation=45)\n",
    "plt.show()"
   ]
  },
  {
   "cell_type": "markdown",
   "id": "ab495389-6e4a-4feb-8ea5-f1f84d26b9c3",
   "metadata": {},
   "source": [
    "### KEY FINDINGS"
   ]
  },
  {
   "cell_type": "markdown",
   "id": "5d60c6c6-249b-48da-bc9e-b6675f4276ad",
   "metadata": {},
   "source": [
    "1. HOW MANY PEOPLE SURVIVED IN THE LAST 20 YEARS?"
   ]
  },
  {
   "cell_type": "markdown",
   "id": "36037e94-fdda-45e2-898c-10350a39f126",
   "metadata": {
    "tags": []
   },
   "source": [
    "The analysis shows that there has been fluctuation in the number of survivors in the last 20 years with some year higher than the other. i noticed that 2005 has the highest number of survivors with 857 these might be due to several incidents with successful emergency responses and effective safety measures. i also noticed that 2023 do not have any survival this might be due to poor response and outdated infrastructure"
   ]
  },
  {
   "cell_type": "markdown",
   "id": "2cf07617-173d-4ba7-a856-618014a6e009",
   "metadata": {},
   "source": [
    "2.HOW MANY PEOPLE DIED IN THE LAST 20 YEARS?"
   ]
  },
  {
   "cell_type": "markdown",
   "id": "1feb3ce0-aa8d-4b13-8e90-b9c667c964f6",
   "metadata": {},
   "source": [
    "The analysis shows that in the last 20 year there have being fluctuation in the rate of fatalities with some years having high fatalities rate  than the other. i also  noticed that in the last 3years  from 2022 to 2024 the rate of fatalities have reduced from 186 incidents in 2022 to 15 incidents in 2024 this might be due to technology advancement and public awareness."
   ]
  },
  {
   "cell_type": "markdown",
   "id": "40ddb79c-31dc-4173-83e9-8c4a33d91f58",
   "metadata": {},
   "source": [
    "3. WHICH COUNTRY/REGION HAS THE HIGHEST NUMBER OF AIRCRASHES?"
   ]
  },
  {
   "cell_type": "markdown",
   "id": "7169fa82-b31e-4519-ba5d-c2fd396e7a73",
   "metadata": {},
   "source": [
    "The country with the highest number of crashes is Russia with 249 number of crashes this might be due to harsh weather conditions, vast geographical coverage, aging aircraft fleets and operational challenges in Russia"
   ]
  },
  {
   "cell_type": "markdown",
   "id": "de18df2f-3598-4ba5-8bb7-105436ea6a7d",
   "metadata": {},
   "source": [
    "4. WHERE ARE THE TOP 10 MOST COMMON LOCATION?"
   ]
  },
  {
   "cell_type": "markdown",
   "id": "3a14e105-4b9e-40da-85e6-65289fbfbd23",
   "metadata": {},
   "source": [
    "The analysis shows that the top 10 location associated with air crashes as Moscow Russia with 16 number of crashes, New York New with 15 incidents, Manila philiphines with 15 incidents, Sao paulo Brazil with 13 incidents, Cairo Egypt with 13 incidents, Rio de janeiro Brazilwith 12 incidents, Bogota Colombia with 12 incidents, Chicago illinois with 11 incidents, Near Moscow russia with 11 incidents, Tehra iran with 10 incidents  this might be due to outdated infrastructures, insufficient safety measures and adverse weather conditions."
   ]
  },
  {
   "cell_type": "markdown",
   "id": "205aef54-f9a9-406c-bb03-85ea75cd2012",
   "metadata": {},
   "source": [
    "5. WHICH MONTH HAS THE HIGHEST NUMBER OF CRASHES?"
   ]
  },
  {
   "cell_type": "markdown",
   "id": "62ddc635-8f27-45e5-ba78-539e37e4f5a4",
   "metadata": {},
   "source": [
    "The analysis shows that December has the highest number of crashes with 497 number of crashes this might be due to Harsh winter weather conditions and limited light day during the winter months which can affect flight operations and safety"
   ]
  },
  {
   "cell_type": "markdown",
   "id": "066d41cd-f19b-4adb-ab5c-8c43997d96e7",
   "metadata": {},
   "source": [
    "6. WHO ARE THE TOP 10 OPERATORS?"
   ]
  },
  {
   "cell_type": "markdown",
   "id": "b77e8a02-f021-4969-80b7-22daac1aedf3",
   "metadata": {},
   "source": [
    "The operator with the highest number of air crashes is None, Aeroflot and force Air US military with 234, 188 and 92 number of air crashes. None operators having the highest number of crashes these might be due to lack of proper documentation.  Aeroflot is one of the major Russian airlines with high number of crashes these might be could be due to the airline's long operational history, the high volume of flights, and historical safety practices during certain periods of the airline's history."
   ]
  },
  {
   "cell_type": "markdown",
   "id": "c8a432fc-05eb-4232-b4b9-a2e3dd450ec7",
   "metadata": {},
   "source": [
    "## RECOMMENDATION"
   ]
  },
  {
   "cell_type": "markdown",
   "id": "289fd3ef-90dd-4b1c-a1a6-ca5278a8d2d3",
   "metadata": {},
   "source": [
    "- Continuously improved safety measures and protocols to reduce the number of fatalities.\n",
    "- Invest in advance safety technologies such as better crash resistant design. Enhanced emergency equipment and improve communication rates.\n",
    "- Increase public awareness and provide training on safety procedures for passengers.\n",
    "- Upgrading airport infrastructures in the top 10 locations to handle high volume of traffic and challenging conditions more effectively.\n",
    "- Strengthen aviation safety policies and regulations in high-risk areas, implement stricter zoning laws to reduce risks and enforce compliance with international safety standards.\n",
    "- Upgrading airport infrastructures in the country to handle high volume of traffic and challenging conditions more effectively.\n",
    "- Implement advanced weather monitoring and forecasting system to provide accurate and timely weather information to pilots and air traffic controllers especially during high-risk winter month.\n",
    "- Schedule more frequent and rigorous maintenance checks during winter months to ensure that aircraft are in optimal condition to handle adverse condition.\n"
   ]
  }
 ],
 "metadata": {
  "kernelspec": {
   "display_name": "Python 3 (ipykernel)",
   "language": "python",
   "name": "python3"
  },
  "language_info": {
   "codemirror_mode": {
    "name": "ipython",
    "version": 3
   },
   "file_extension": ".py",
   "mimetype": "text/x-python",
   "name": "python",
   "nbconvert_exporter": "python",
   "pygments_lexer": "ipython3",
   "version": "3.11.5"
  }
 },
 "nbformat": 4,
 "nbformat_minor": 5
}
